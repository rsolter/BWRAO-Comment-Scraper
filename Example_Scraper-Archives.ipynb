{
 "cells": [
  {
   "cell_type": "markdown",
   "metadata": {},
   "source": [
    "### Scraping Comments https://www.blackwhitereadallover.com/"
   ]
  },
  {
   "cell_type": "code",
   "execution_count": 52,
   "metadata": {},
   "outputs": [],
   "source": [
    "# Libraries\n",
    "\n",
    "import pandas as pd\n",
    "from selenium import webdriver\n",
    "from selenium.webdriver.common.by import By\n",
    "from selenium.webdriver.support.ui import WebDriverWait\n",
    "from selenium.webdriver.support import expected_conditions as EC\n",
    "from selenium.common.exceptions import NoSuchElementException\n",
    "from random import randint\n",
    "from time import sleep \n"
   ]
  },
  {
   "cell_type": "code",
   "execution_count": 53,
   "metadata": {
    "scrolled": true
   },
   "outputs": [
    {
     "name": "stderr",
     "output_type": "stream",
     "text": [
      "/home/ravisolter/anaconda3/lib/python3.7/site-packages/ipykernel_launcher.py:11: DeprecationWarning: use options instead of chrome_options\n",
      "  # This is added back by InteractiveShellApp.init_path()\n"
     ]
    }
   ],
   "source": [
    "# Setting up the Chrome webdriver\n",
    "\n",
    "options = webdriver.ChromeOptions()\n",
    "#options.add_argument('--headless') #uncomment to not render driven browser during scrapping\n",
    "\n",
    "options.binary_location = \"/usr/bin/google-chrome\"\n",
    "chrome_driver_binary = \"/usr/local/bin/chromedriver\"\n",
    "#options.binary_location = \"C:/Program Files (x86)/Google/Chrome/Application/chrome.exe\"\n",
    "#chrome_driver_binary = \"C:/Users/Alek/chromedriver\"\n",
    "driver = webdriver.Chrome(chrome_driver_binary, chrome_options=options)\n",
    "\n"
   ]
  },
  {
   "cell_type": "markdown",
   "metadata": {},
   "source": [
    "#### Scraping the Archives"
   ]
  },
  {
   "cell_type": "code",
   "execution_count": 50,
   "metadata": {},
   "outputs": [],
   "source": [
    "# Create a list of archive URLs (Feb, 2007 - March, 2020)\n",
    "\n",
    "archive_periods = []\n",
    "\n",
    "for j in range(2007,2021):\n",
    "    for k in range(1,12):\n",
    "        single_period = 'https://www.blackwhitereadallover.com/archives/'+str(j)+'/'+str(k)\n",
    "        archive_periods.append(single_period)\n",
    "        ;\n",
    "        \n",
    "# Subsetting out some periods for which there are no articles\n",
    "active_archives = archive_periods[1:len(archive_periods)-8]\n",
    "\n",
    "#len(active_archives) #145\n",
    "        "
   ]
  },
  {
   "cell_type": "code",
   "execution_count": 44,
   "metadata": {},
   "outputs": [],
   "source": [
    "## Code to check from 'Load More' button on each archive page and clicking it if found\n",
    "\n",
    "# driver.get('https://www.blackwhitereadallover.com/archives/2019/6')\n",
    "#button = \".//button[@class='p-buttonc-archives-load-more__button']\"\n",
    "# driver.implicitly_wait(10)\n",
    "# button_clickable = driver.find_element_by_xpath('div.c-archives-load-more__button').click()\n",
    "#button_clickable = driver.find_element_by_css_selector('body>div.l-root.l-reskin>div:nth-child(5)>div>div.l-col__main>div.c-archives-load-more>button').click()\n",
    "#button_clickable.click()\n"
   ]
  },
  {
   "cell_type": "code",
   "execution_count": 47,
   "metadata": {
    "collapsed": true
   },
   "outputs": [
    {
     "ename": "NoSuchElementException",
     "evalue": "Message: no such element: Unable to locate element: {\"method\":\"xpath\",\"selector\":\"/html/body/div[1]/div[2]/h1\"}\n  (Session info: chrome=80.0.3987.163)\n",
     "output_type": "error",
     "traceback": [
      "\u001b[0;31m---------------------------------------------------------------------------\u001b[0m",
      "\u001b[0;31mNoSuchElementException\u001b[0m                    Traceback (most recent call last)",
      "\u001b[0;32m<ipython-input-47-00cb1ce05ee2>\u001b[0m in \u001b[0;36m<module>\u001b[0;34m\u001b[0m\n\u001b[1;32m     12\u001b[0m \u001b[0;34m\u001b[0m\u001b[0m\n\u001b[1;32m     13\u001b[0m     \u001b[0;31m# Retrieving number of articles from title\u001b[0m\u001b[0;34m\u001b[0m\u001b[0;34m\u001b[0m\u001b[0;34m\u001b[0m\u001b[0m\n\u001b[0;32m---> 14\u001b[0;31m     \u001b[0marchive_title\u001b[0m \u001b[0;34m=\u001b[0m \u001b[0mdriver\u001b[0m\u001b[0;34m.\u001b[0m\u001b[0mfind_element_by_xpath\u001b[0m\u001b[0;34m(\u001b[0m\u001b[0;34m'/html/body/div[1]/div[2]/h1'\u001b[0m\u001b[0;34m)\u001b[0m\u001b[0;34m\u001b[0m\u001b[0;34m\u001b[0m\u001b[0m\n\u001b[0m\u001b[1;32m     15\u001b[0m     \u001b[0;31m#print(archive_title.text)\u001b[0m\u001b[0;34m\u001b[0m\u001b[0;34m\u001b[0m\u001b[0;34m\u001b[0m\u001b[0m\n\u001b[1;32m     16\u001b[0m \u001b[0;34m\u001b[0m\u001b[0m\n",
      "\u001b[0;32m~/anaconda3/lib/python3.7/site-packages/selenium/webdriver/remote/webdriver.py\u001b[0m in \u001b[0;36mfind_element_by_xpath\u001b[0;34m(self, xpath)\u001b[0m\n\u001b[1;32m    392\u001b[0m             \u001b[0melement\u001b[0m \u001b[0;34m=\u001b[0m \u001b[0mdriver\u001b[0m\u001b[0;34m.\u001b[0m\u001b[0mfind_element_by_xpath\u001b[0m\u001b[0;34m(\u001b[0m\u001b[0;34m'//div/td[1]'\u001b[0m\u001b[0;34m)\u001b[0m\u001b[0;34m\u001b[0m\u001b[0;34m\u001b[0m\u001b[0m\n\u001b[1;32m    393\u001b[0m         \"\"\"\n\u001b[0;32m--> 394\u001b[0;31m         \u001b[0;32mreturn\u001b[0m \u001b[0mself\u001b[0m\u001b[0;34m.\u001b[0m\u001b[0mfind_element\u001b[0m\u001b[0;34m(\u001b[0m\u001b[0mby\u001b[0m\u001b[0;34m=\u001b[0m\u001b[0mBy\u001b[0m\u001b[0;34m.\u001b[0m\u001b[0mXPATH\u001b[0m\u001b[0;34m,\u001b[0m \u001b[0mvalue\u001b[0m\u001b[0;34m=\u001b[0m\u001b[0mxpath\u001b[0m\u001b[0;34m)\u001b[0m\u001b[0;34m\u001b[0m\u001b[0;34m\u001b[0m\u001b[0m\n\u001b[0m\u001b[1;32m    395\u001b[0m \u001b[0;34m\u001b[0m\u001b[0m\n\u001b[1;32m    396\u001b[0m     \u001b[0;32mdef\u001b[0m \u001b[0mfind_elements_by_xpath\u001b[0m\u001b[0;34m(\u001b[0m\u001b[0mself\u001b[0m\u001b[0;34m,\u001b[0m \u001b[0mxpath\u001b[0m\u001b[0;34m)\u001b[0m\u001b[0;34m:\u001b[0m\u001b[0;34m\u001b[0m\u001b[0;34m\u001b[0m\u001b[0m\n",
      "\u001b[0;32m~/anaconda3/lib/python3.7/site-packages/selenium/webdriver/remote/webdriver.py\u001b[0m in \u001b[0;36mfind_element\u001b[0;34m(self, by, value)\u001b[0m\n\u001b[1;32m    976\u001b[0m         return self.execute(Command.FIND_ELEMENT, {\n\u001b[1;32m    977\u001b[0m             \u001b[0;34m'using'\u001b[0m\u001b[0;34m:\u001b[0m \u001b[0mby\u001b[0m\u001b[0;34m,\u001b[0m\u001b[0;34m\u001b[0m\u001b[0;34m\u001b[0m\u001b[0m\n\u001b[0;32m--> 978\u001b[0;31m             'value': value})['value']\n\u001b[0m\u001b[1;32m    979\u001b[0m \u001b[0;34m\u001b[0m\u001b[0m\n\u001b[1;32m    980\u001b[0m     \u001b[0;32mdef\u001b[0m \u001b[0mfind_elements\u001b[0m\u001b[0;34m(\u001b[0m\u001b[0mself\u001b[0m\u001b[0;34m,\u001b[0m \u001b[0mby\u001b[0m\u001b[0;34m=\u001b[0m\u001b[0mBy\u001b[0m\u001b[0;34m.\u001b[0m\u001b[0mID\u001b[0m\u001b[0;34m,\u001b[0m \u001b[0mvalue\u001b[0m\u001b[0;34m=\u001b[0m\u001b[0;32mNone\u001b[0m\u001b[0;34m)\u001b[0m\u001b[0;34m:\u001b[0m\u001b[0;34m\u001b[0m\u001b[0;34m\u001b[0m\u001b[0m\n",
      "\u001b[0;32m~/anaconda3/lib/python3.7/site-packages/selenium/webdriver/remote/webdriver.py\u001b[0m in \u001b[0;36mexecute\u001b[0;34m(self, driver_command, params)\u001b[0m\n\u001b[1;32m    319\u001b[0m         \u001b[0mresponse\u001b[0m \u001b[0;34m=\u001b[0m \u001b[0mself\u001b[0m\u001b[0;34m.\u001b[0m\u001b[0mcommand_executor\u001b[0m\u001b[0;34m.\u001b[0m\u001b[0mexecute\u001b[0m\u001b[0;34m(\u001b[0m\u001b[0mdriver_command\u001b[0m\u001b[0;34m,\u001b[0m \u001b[0mparams\u001b[0m\u001b[0;34m)\u001b[0m\u001b[0;34m\u001b[0m\u001b[0;34m\u001b[0m\u001b[0m\n\u001b[1;32m    320\u001b[0m         \u001b[0;32mif\u001b[0m \u001b[0mresponse\u001b[0m\u001b[0;34m:\u001b[0m\u001b[0;34m\u001b[0m\u001b[0;34m\u001b[0m\u001b[0m\n\u001b[0;32m--> 321\u001b[0;31m             \u001b[0mself\u001b[0m\u001b[0;34m.\u001b[0m\u001b[0merror_handler\u001b[0m\u001b[0;34m.\u001b[0m\u001b[0mcheck_response\u001b[0m\u001b[0;34m(\u001b[0m\u001b[0mresponse\u001b[0m\u001b[0;34m)\u001b[0m\u001b[0;34m\u001b[0m\u001b[0;34m\u001b[0m\u001b[0m\n\u001b[0m\u001b[1;32m    322\u001b[0m             response['value'] = self._unwrap_value(\n\u001b[1;32m    323\u001b[0m                 response.get('value', None))\n",
      "\u001b[0;32m~/anaconda3/lib/python3.7/site-packages/selenium/webdriver/remote/errorhandler.py\u001b[0m in \u001b[0;36mcheck_response\u001b[0;34m(self, response)\u001b[0m\n\u001b[1;32m    240\u001b[0m                 \u001b[0malert_text\u001b[0m \u001b[0;34m=\u001b[0m \u001b[0mvalue\u001b[0m\u001b[0;34m[\u001b[0m\u001b[0;34m'alert'\u001b[0m\u001b[0;34m]\u001b[0m\u001b[0;34m.\u001b[0m\u001b[0mget\u001b[0m\u001b[0;34m(\u001b[0m\u001b[0;34m'text'\u001b[0m\u001b[0;34m)\u001b[0m\u001b[0;34m\u001b[0m\u001b[0;34m\u001b[0m\u001b[0m\n\u001b[1;32m    241\u001b[0m             \u001b[0;32mraise\u001b[0m \u001b[0mexception_class\u001b[0m\u001b[0;34m(\u001b[0m\u001b[0mmessage\u001b[0m\u001b[0;34m,\u001b[0m \u001b[0mscreen\u001b[0m\u001b[0;34m,\u001b[0m \u001b[0mstacktrace\u001b[0m\u001b[0;34m,\u001b[0m \u001b[0malert_text\u001b[0m\u001b[0;34m)\u001b[0m\u001b[0;34m\u001b[0m\u001b[0;34m\u001b[0m\u001b[0m\n\u001b[0;32m--> 242\u001b[0;31m         \u001b[0;32mraise\u001b[0m \u001b[0mexception_class\u001b[0m\u001b[0;34m(\u001b[0m\u001b[0mmessage\u001b[0m\u001b[0;34m,\u001b[0m \u001b[0mscreen\u001b[0m\u001b[0;34m,\u001b[0m \u001b[0mstacktrace\u001b[0m\u001b[0;34m)\u001b[0m\u001b[0;34m\u001b[0m\u001b[0;34m\u001b[0m\u001b[0m\n\u001b[0m\u001b[1;32m    243\u001b[0m \u001b[0;34m\u001b[0m\u001b[0m\n\u001b[1;32m    244\u001b[0m     \u001b[0;32mdef\u001b[0m \u001b[0m_value_or_default\u001b[0m\u001b[0;34m(\u001b[0m\u001b[0mself\u001b[0m\u001b[0;34m,\u001b[0m \u001b[0mobj\u001b[0m\u001b[0;34m,\u001b[0m \u001b[0mkey\u001b[0m\u001b[0;34m,\u001b[0m \u001b[0mdefault\u001b[0m\u001b[0;34m)\u001b[0m\u001b[0;34m:\u001b[0m\u001b[0;34m\u001b[0m\u001b[0;34m\u001b[0m\u001b[0m\n",
      "\u001b[0;31mNoSuchElementException\u001b[0m: Message: no such element: Unable to locate element: {\"method\":\"xpath\",\"selector\":\"/html/body/div[1]/div[2]/h1\"}\n  (Session info: chrome=80.0.3987.163)\n"
     ]
    }
   ],
   "source": [
    "## Collecting the article URLS from each archive page, storing in 'archive_links' list\n",
    "\n",
    "archive_links = []\n",
    "\n",
    "for u in range(0,len(archive_periods)):\n",
    "    #print(u)\n",
    "    \n",
    "    sleep(randint(2, 3))  # sleep between 1 and 3 seconds\n",
    "    \n",
    "    driver.get(active_archives[u])\n",
    "    \n",
    "    # Retrieving number of articles from title \n",
    "    archive_title = driver.find_element_by_xpath('/html/body/div[1]/div[2]/h1')\n",
    "    #print(archive_title.text)\n",
    "    \n",
    "    start = archive_title.text.find('(')+1\n",
    "    start = archive_title.text[start:]\n",
    "    articles = int(start.replace(')',''))\n",
    "    #print(articles)\n",
    "    \n",
    "    \n",
    "    # Retrieving the article links themselves\n",
    "    for q in range(0,articles):\n",
    "        \n",
    "        article_link = driver.find_elements_by_css_selector('h2.c-entry-box--compact__title>a')\n",
    "        article_link = article_link[q].get_attribute('href')\n",
    "        \n",
    "    \n",
    "        archive_links.append(article_link) \n",
    "           \n",
    "    ;\n",
    "\n"
   ]
  },
  {
   "cell_type": "code",
   "execution_count": 34,
   "metadata": {
    "collapsed": true
   },
   "outputs": [
    {
     "name": "stdout",
     "output_type": "stream",
     "text": [
      "['https://www.blackwhitereadallover.com/2007/2/28/2836773/february-27-afternoon-quick-notes', 'https://www.blackwhitereadallover.com/2007/2/27/2836772/juventus-modena-wrap-up-leaving-it-late', 'https://www.blackwhitereadallover.com/2007/2/23/2836771/thursday-feb-22-quick-notes-crybabies-politics-cocaine-lindsay-lohan', 'https://www.blackwhitereadallover.com/2007/2/22/2836770/weekend-wrap-up-a-little-tardy', 'https://www.blackwhitereadallover.com/2007/2/16/2836769/stop-the-presses-tudor-stays-and-other-junk', 'https://www.blackwhitereadallover.com/2007/2/15/2836768/february-15-2007-quick-notes', 'https://www.blackwhitereadallover.com/2007/2/15/2836767/primavera-player-profile-sebastian-giovinco', 'https://www.blackwhitereadallover.com/2007/2/14/2836766/march-12-2003-igor-tudor-day', 'https://www.blackwhitereadallover.com/2007/3/30/2836784/juventus-pescara-preview', 'https://www.blackwhitereadallover.com/2007/3/21/2836783/3-21-07-juventus-news-from-drunks-to-phenoms-and-metzelder-co', 'https://www.blackwhitereadallover.com/2007/3/20/2836782/juventus-triestina-recap-palladino-ole-7-national-teamers', 'https://www.blackwhitereadallover.com/2007/3/19/2836781/juventus-triestina-preview-big-budget-big-hats', 'https://www.blackwhitereadallover.com/2007/3/15/2836780/juventus-treviso-recap-palladino-trezeguet-news-and', 'https://www.blackwhitereadallover.com/2007/3/12/2836779/juventus-brescia-recap-stadio-martelli-the-twilight-zone', 'https://www.blackwhitereadallover.com/2007/3/10/2836778/juventus-brescia-preview', 'https://www.blackwhitereadallover.com/2007/3/6/2836777/juventus-news-3-6-07-the-german-dream', 'https://www.blackwhitereadallover.com/2007/3/6/2836776/juventus-piacenza-recap-bianconeri-in-primetime', 'https://www.blackwhitereadallover.com/2007/3/4/2836775/juventus-piacenza-preview-nocerinos-derby', 'https://www.blackwhitereadallover.com/2007/3/1/2836774/thursday-march-1-quick-notes-camoranesi-unleashes-a-serious-note', 'https://www.blackwhitereadallover.com/2007/4/30/2836791/now-for-what-youve-all-been-waiting-for', 'https://www.blackwhitereadallover.com/2007/4/28/2836790/juventus-verona-wrap-up-boum-boum-1-0', 'https://www.blackwhitereadallover.com/2007/4/26/2836789/april-25th-festa-della-liberazione-juventus-news', 'https://www.blackwhitereadallover.com/2007/4/24/2836788/weekend-wrap-up-salutate-la-capolista', 'https://www.blackwhitereadallover.com/2007/4/17/2836787/juventus-rimini-preview', 'https://www.blackwhitereadallover.com/2007/4/17/2836786/juventus-news-uber-bianconeri-blanch-et-noir-baby-bianconeri-more', 'https://www.blackwhitereadallover.com/2007/4/16/2836785/juventus-review-another-step-closer', 'https://www.blackwhitereadallover.com/2007/5/16/2836800/may-16-juventus-news-im-dizzy-its-insanity', 'https://www.blackwhitereadallover.com/2007/5/15/2836799/juventus-bologna-wrap-up-the-sweetness-that-is-sebastian-giovinco', 'https://www.blackwhitereadallover.com/2007/5/11/2836798/juventus-bologna-preview-hearts-roses-what', 'https://www.blackwhitereadallover.com/2007/5/9/2836797/may-9-juventus-news-frings-farewell-more', 'https://www.blackwhitereadallover.com/2007/5/8/2836796/may-8th-juventus-news-tractors-galore-from-the-midfield-to-the-farm', 'https://www.blackwhitereadallover.com/2007/5/8/2836795/juventus-cesena-recap-a-black-white-weekend', 'https://www.blackwhitereadallover.com/2007/5/2/2836794/may-2-2007-juventus-news-bad-bad-news', 'https://www.blackwhitereadallover.com/2007/5/2/2836793/juventus-frosinone-recap-zalayeta-working-hard-on-labor-day', 'https://www.blackwhitereadallover.com/2007/5/1/2836792/juventus-frosinone-preview-can-you-smell-that-its-a-promotion-wink', 'https://www.blackwhitereadallover.com/2007/6/27/2836803/why-juve-cant-win-serie-a-yet', 'https://www.blackwhitereadallover.com/2007/6/26/2836802/the-juve-blog-is-back', 'https://www.blackwhitereadallover.com/2007/6/5/2836801/non-mollare-mai', 'https://www.blackwhitereadallover.com/2007/7/30/2836810/where-to-find-our-youngsters-in-07-08', 'https://www.blackwhitereadallover.com/2007/7/29/2836809/well-hello-there-once-again', 'https://www.blackwhitereadallover.com/2007/7/24/2836808/the-new-juves-first-retreat-together', 'https://www.blackwhitereadallover.com/2007/7/17/2836807/new-juve-jersey', 'https://www.blackwhitereadallover.com/2007/7/13/2836806/the-serie-a-journey-has-started', 'https://www.blackwhitereadallover.com/2007/7/10/2836805/the-night-before-nedved-left', 'https://www.blackwhitereadallover.com/2007/7/7/2836804/this-weeks-news', 'https://www.blackwhitereadallover.com/2007/8/30/2836822/were-baaaaaaaaaaaack-a-week-to-build-upon', 'https://www.blackwhitereadallover.com/2007/8/25/2836821/juventus-livorno-preview-the-first-official-juve-offside-serie-a', 'https://www.blackwhitereadallover.com/2007/8/24/2836820/avanti-ragazzi-the-serie-a-prospect-handbook', 'https://www.blackwhitereadallover.com/2007/8/21/2836819/that-juicy-vip-list-that-is-the-calcio-italia-top-25', 'https://www.blackwhitereadallover.com/2007/8/21/2836818/cobolli-gigli-day-dream-believer-news', 'https://www.blackwhitereadallover.com/2007/8/21/2836817/an-analisis-written-by-a-serie-a-genius', 'https://www.blackwhitereadallover.com/2007/8/19/2836816/summer-drawing-to-an-end-serie-a-looming', 'https://www.blackwhitereadallover.com/2007/8/13/2836815/juventus-roma-a-friendly-isnt-so-friendly-when', 'https://www.blackwhitereadallover.com/2007/8/11/2836814/aston-villa-vs-liverpool-who-cares-juve-roma-cesena', 'https://www.blackwhitereadallover.com/2007/8/11/2836813/the-rest-of-the-bianconeri-roaming-around', 'https://www.blackwhitereadallover.com/2007/8/10/2836812/e-meglio-nastro-azzurro', 'https://www.blackwhitereadallover.com/2007/8/1/2836811/juventus-hamburg', 'https://www.blackwhitereadallover.com/2007/9/27/2836827/juventus-make-pit-stop-at-second-one-behind-leaders', 'https://www.blackwhitereadallover.com/2007/9/25/2836826/is-the-january-transfer-window-here-yet', 'https://www.blackwhitereadallover.com/2007/9/22/2836825/dear-fratelli-bianconeri-this-comes-from-the-heart', 'https://www.blackwhitereadallover.com/2007/9/18/2836824/nocerino-hit-by-car-mamma-mia-whats-next', 'https://www.blackwhitereadallover.com/2007/10/30/2836833/wanted-dead-or-alive', 'https://www.blackwhitereadallover.com/2007/10/24/2836832/just-when-you-think-its-safe-to-write-a-match-review', 'https://www.blackwhitereadallover.com/2007/10/17/2836831/breaking-news-del-piero-extends-juve-stay-til-2010', 'https://www.blackwhitereadallover.com/2007/10/16/2836830/trezegol-turns-30-happy-birthday-david', 'https://www.blackwhitereadallover.com/2007/10/8/2836829/fiorentina-hands-juve-purple-nurple-1-1-final-score', 'https://www.blackwhitereadallover.com/2007/10/2/2836828/trez-secures-three-for-juventus-one-point-behind-first-place', 'https://www.blackwhitereadallover.com/2007/11/27/2836838/juventus-5-palermo-0-recap-a-black-and-white-affair', 'https://www.blackwhitereadallover.com/2007/11/22/2836837/juventus-vs-palermo-previews-contests', 'https://www.blackwhitereadallover.com/2007/11/16/2836836/a-short-essay-sportsmanship-emphasis-on-sports-man', 'https://www.blackwhitereadallover.com/2007/11/9/2836835/happy-birthday-del-piero-moves-into-second-place-all-time-appearances', 'https://www.blackwhitereadallover.com/2007/11/7/2836834/the-boys-are-back-in-town-juventus-1-inter-1', 'https://www.blackwhitereadallover.com/2008/1/30/2836855/get-to-know-momo', 'https://www.blackwhitereadallover.com/2008/1/28/2836853/sissoko-stendardo-now-mellberg-in-july-tiago-still-retarded', 'https://www.blackwhitereadallover.com/2008/1/25/2836852/coppa-italia-quaters-plus-goodbye-tiago-hello-sissoko', 'https://www.blackwhitereadallover.com/2008/1/25/2836851/a-photo-tribute-to-gianni-agnelli-the-greatest-juventino-that-ever', 'https://www.blackwhitereadallover.com/2008/1/18/2836849/sampdoria-preview-plus-what-the-shit-is-going-on', 'https://www.blackwhitereadallover.com/2008/1/11/2836848/catania-v-juventus-preview', 'https://www.blackwhitereadallover.com/2008/1/7/2836847/the-future-of-juventus-il-fenomeno', 'https://www.blackwhitereadallover.com/2008/1/7/2836846/iffhs-juventus-best-italian-club-of-all-time', 'https://www.blackwhitereadallover.com/2008/1/3/2836845/juventus-loses-out-to-chelsea-ivanovic-gets-the-blues', 'https://www.blackwhitereadallover.com/2008/2/28/2836862/family-meeting-gather-round-the-state-of-italian-refereeing', 'https://www.blackwhitereadallover.com/2008/2/26/2836861/live-coverage-derby-della-mole', 'https://www.blackwhitereadallover.com/2008/2/23/2836860/juventus-to-play-leapfrog-with-old-friends-reggina-preview', 'https://www.blackwhitereadallover.com/2008/2/17/2836859/juventus-wins-was-there-really-any-doubt', 'https://www.blackwhitereadallover.com/2008/2/13/2836858/bianconeri-second-half-attack-romas-lead-to-get-pulled-back', 'https://www.blackwhitereadallover.com/2008/2/5/2836857/fuck-a-review-without-many-words', 'https://www.blackwhitereadallover.com/2008/2/1/2836856/juventus-v-cagliari-preview-plus-old-ladys-tank-tops-and-tampons', 'https://www.blackwhitereadallover.com/2008/3/31/2836871/juventus-v-serie-a-can-we-still-win-the-scudetto', 'https://www.blackwhitereadallover.com/2008/3/31/2836870/an-addition-to-the-juventus-offside', 'https://www.blackwhitereadallover.com/2008/3/27/2836869/juventus-v-parma-oh-canada', 'https://www.blackwhitereadallover.com/2008/3/26/2836868/ranieri-v-mancini-coachs-couch-derby-ditalia-edition', 'https://www.blackwhitereadallover.com/2008/3/21/2836867/palm-sunday-victory-wednesday-night-ashes-before-saturdays-derby', 'https://www.blackwhitereadallover.com/2008/3/16/2836866/juventus-v-napoli-preview-notes', 'https://www.blackwhitereadallover.com/2008/3/9/2836865/live-coverage-genoa-v-juventus-forza-ragazzi', 'https://www.blackwhitereadallover.com/2008/3/4/2836864/ranieri-vs-secco-who-should-stay-who-should-go', 'https://www.blackwhitereadallover.com/2008/3/2/2836863/oldie-but-a-goodie-juventus-8-fiorentina-0']\n"
     ]
    }
   ],
   "source": [
    "#type(archive_links)\n",
    "#len(archive_links)\n",
    "#print(archive_links)\n",
    "\n"
   ]
  },
  {
   "cell_type": "markdown",
   "metadata": {},
   "source": [
    "#### Logging in to BRWAO"
   ]
  },
  {
   "cell_type": "code",
   "execution_count": 54,
   "metadata": {},
   "outputs": [],
   "source": [
    "# Logging in to BWRAO to have access to comment recs\n",
    "\n",
    "driver.get(\"https://auth.voxmedia.com/login?return_to=https://www.blackwhitereadallover.com/\")\n",
    "\n",
    "element = WebDriverWait(driver, 100).until(\n",
    "        EC.presence_of_element_located((By.CLASS_NAME, \"p-text-input\"))\n",
    "    )\n",
    "\n",
    "username = driver.find_element_by_xpath('//*[@id=\"login[username]\"]')\n",
    "username.clear()\n",
    "username.send_keys(\"rsolter\")\n",
    "\n",
    "\n",
    "password = driver.find_element_by_xpath('//*[@id=\"login[password]\"]')\n",
    "password.clear()\n",
    "password.send_keys(\"pass123!\")\n",
    "\n",
    "\n",
    "button = driver.find_element_by_xpath('//*[@id=\"auth\"]/div/form/fieldset[3]/input')\n",
    "button.click()"
   ]
  },
  {
   "cell_type": "code",
   "execution_count": 55,
   "metadata": {},
   "outputs": [],
   "source": [
    "# Have selenium wait until the BWRAO logo loads (therefore, has logged in properly)\n",
    "element = WebDriverWait(driver, 100).until(\n",
    "        EC.presence_of_element_located((By.CLASS_NAME, \"c-global-header__logo-large\"))\n",
    "    )"
   ]
  },
  {
   "cell_type": "markdown",
   "metadata": {},
   "source": [
    "#### Scraping relevant info from individual pages"
   ]
  },
  {
   "cell_type": "code",
   "execution_count": 56,
   "metadata": {
    "scrolled": true
   },
   "outputs": [
    {
     "name": "stdout",
     "output_type": "stream",
     "text": [
      "Report: PSG turns down Miralem Pjanic-Marco Verratti swap deal\n",
      "Danny Penza\n",
      "Apr 3, 2020, 3:07am PDT\n"
     ]
    }
   ],
   "source": [
    "## Gathering blog title, author, publish date and comment list and comment count from a select page\n",
    "\n",
    "### Insert loop here to visit relevant URLs\n",
    "\n",
    "driver.get(\"https://www.blackwhitereadallover.com/2020/4/3/21206623/miralem-pjanic-marco-verratti-juventus-paris-saint-germain-2020-serie-a-summer-transfer-rumors#comments\")\n",
    "\n",
    "## Grab article title, author\n",
    "\n",
    "blog_title = driver.find_element_by_xpath('//*[@id=\"content\"]/article/div[1]/div[1]/div[2]/h1')\n",
    "print(blog_title.text)\n",
    "\n",
    "article_author = driver.find_element_by_xpath('//*[@id=\"content\"]/article/div[1]/div[1]/div[3]/span[1]/span[1]/a/span')\n",
    "print(article_author.text)\n",
    "\n",
    "article_publish_date = driver.find_element_by_xpath('//*[@id=\"content\"]/article/div[1]/div[1]/div[3]/span[1]/span[2]/time')\n",
    "print(article_publish_date.text)\n",
    "\n",
    "element = WebDriverWait(driver, 100).until(\n",
    "        EC.presence_of_element_located((By.CLASS_NAME, \"c-comments__list\"))\n",
    "    )\n",
    "\n",
    "#Find number of comments\n",
    "\n",
    "n_comments = driver.find_element_by_xpath('//*[@id=\"comments\"]/div[1]/span/span')\n",
    "n_comments = int(n_comments.text)\n"
   ]
  },
  {
   "cell_type": "code",
   "execution_count": 57,
   "metadata": {},
   "outputs": [],
   "source": [
    "# Looping through all comments to gather comment title, comment body, poster, and number of recs\n",
    "\n",
    "\n",
    "comments_df = pd.DataFrame()\n",
    "\n",
    "for i in range(1,n_comments+1):\n",
    "    \n",
    "    xpath = '//*[@id=\"comments\"]/div[2]/div['+str(i)+']'\n",
    "     \n",
    "    comment_title = driver.find_element_by_xpath(xpath + '/div[1]')\n",
    "    comment_body = driver.find_element_by_xpath(xpath + '/div[2]')\n",
    "    \n",
    "    # Generally, comment meta data is stored in the 3rd div except when commentors have a signature\n",
    "    # in which case the meta data is in the 4th div\n",
    "    \n",
    "    if driver.find_elements_by_xpath(xpath + '/div[4]'):\n",
    "        poster = driver.find_element_by_xpath(xpath + '/div[4]/span[1]/a[1]')\n",
    "        post_date = driver.find_element_by_xpath(xpath + '/div[4]/span[1]/a[2]')\n",
    "    \n",
    "    # Some comments have no recommendations\n",
    "        if driver.find_elements_by_xpath(xpath + '/div[4]/span[2]/button[2]/span[2]'):\n",
    "            recs = driver.find_element_by_xpath(xpath + '/div[4]/span[2]/button[2]/span[2]')\n",
    "            recs = int(recs.text.replace('(','').replace(')',''))\n",
    "        else:\n",
    "            recs = 0\n",
    "    else:\n",
    "        poster = driver.find_element_by_xpath(xpath + '/div[3]/span[1]/a[1]')\n",
    "        post_date = driver.find_element_by_xpath(xpath + '/div[3]/span[1]/a[2]')\n",
    "        \n",
    "    # Some comments have no recommendations\n",
    "        if driver.find_elements_by_xpath(xpath + '/div[3]/span[2]/button[2]/span[2]'):\n",
    "            recs = driver.find_element_by_xpath(xpath + '/div[3]/span[2]/button[2]/span[2]')\n",
    "            recs = int(recs.text.replace('(','').replace(')',''))\n",
    "        else:\n",
    "            recs = 0\n",
    "\n",
    "    comment = pd.DataFrame([comment_title.text,comment_body.text,poster.text,post_date.text.split('|')[0],\n",
    "                            post_date.text.split('|')[1],recs])\n",
    "    comments_df = pd.concat([comments_df,comment.T])\n",
    "    \n",
    "    ;\n",
    "   "
   ]
  },
  {
   "cell_type": "markdown",
   "metadata": {},
   "source": [
    "#### Aggregating into data frame, exporting"
   ]
  },
  {
   "cell_type": "code",
   "execution_count": 58,
   "metadata": {
    "scrolled": true
   },
   "outputs": [
    {
     "data": {
      "text/html": [
       "<div>\n",
       "<style scoped>\n",
       "    .dataframe tbody tr th:only-of-type {\n",
       "        vertical-align: middle;\n",
       "    }\n",
       "\n",
       "    .dataframe tbody tr th {\n",
       "        vertical-align: top;\n",
       "    }\n",
       "\n",
       "    .dataframe thead th {\n",
       "        text-align: right;\n",
       "    }\n",
       "</style>\n",
       "<table border=\"1\" class=\"dataframe\">\n",
       "  <thead>\n",
       "    <tr style=\"text-align: right;\">\n",
       "      <th></th>\n",
       "      <th>Article</th>\n",
       "      <th>Author</th>\n",
       "      <th>Publish Date</th>\n",
       "      <th>Comment Title</th>\n",
       "      <th>Comment Body</th>\n",
       "      <th>Poster</th>\n",
       "      <th>Date</th>\n",
       "      <th>Time</th>\n",
       "      <th>Recs</th>\n",
       "    </tr>\n",
       "  </thead>\n",
       "  <tbody>\n",
       "    <tr>\n",
       "      <th>0</th>\n",
       "      <td>Report: PSG turns down Miralem Pjanic-Marco Ve...</td>\n",
       "      <td>Danny Penza</td>\n",
       "      <td>Apr 3, 2020, 3:07am PDT</td>\n",
       "      <td></td>\n",
       "      <td>interesting video about how some stats should/...</td>\n",
       "      <td>resko</td>\n",
       "      <td>Apr 3, 2020</td>\n",
       "      <td>6:37 AM</td>\n",
       "      <td>0</td>\n",
       "    </tr>\n",
       "    <tr>\n",
       "      <th>0</th>\n",
       "      <td>Report: PSG turns down Miralem Pjanic-Marco Ve...</td>\n",
       "      <td>Danny Penza</td>\n",
       "      <td>Apr 3, 2020, 3:07am PDT</td>\n",
       "      <td></td>\n",
       "      <td>Well that was a tough decision for PSG!</td>\n",
       "      <td>Paolo C</td>\n",
       "      <td>Apr 3, 2020</td>\n",
       "      <td>6:42 AM</td>\n",
       "      <td>8</td>\n",
       "    </tr>\n",
       "    <tr>\n",
       "      <th>0</th>\n",
       "      <td>Report: PSG turns down Miralem Pjanic-Marco Ve...</td>\n",
       "      <td>Danny Penza</td>\n",
       "      <td>Apr 3, 2020, 3:07am PDT</td>\n",
       "      <td></td>\n",
       "      <td>hmmm…………maybe if we added Khedira……….or Bernar...</td>\n",
       "      <td>Ricardo 1</td>\n",
       "      <td>Apr 3, 2020</td>\n",
       "      <td>10:44 AM</td>\n",
       "      <td>0</td>\n",
       "    </tr>\n",
       "    <tr>\n",
       "      <th>0</th>\n",
       "      <td>Report: PSG turns down Miralem Pjanic-Marco Ve...</td>\n",
       "      <td>Danny Penza</td>\n",
       "      <td>Apr 3, 2020, 3:07am PDT</td>\n",
       "      <td></td>\n",
       "      <td>Interest chart here. Various strikers over/und...</td>\n",
       "      <td>Paolo C</td>\n",
       "      <td>Apr 3, 2020</td>\n",
       "      <td>9:59 AM</td>\n",
       "      <td>6</td>\n",
       "    </tr>\n",
       "    <tr>\n",
       "      <th>0</th>\n",
       "      <td>Report: PSG turns down Miralem Pjanic-Marco Ve...</td>\n",
       "      <td>Danny Penza</td>\n",
       "      <td>Apr 3, 2020, 3:07am PDT</td>\n",
       "      <td></td>\n",
       "      <td>Dybala is an amazing finisher\\nso much this</td>\n",
       "      <td>#finoallafine</td>\n",
       "      <td>Apr 5, 2020</td>\n",
       "      <td>11:50 PM</td>\n",
       "      <td>0</td>\n",
       "    </tr>\n",
       "  </tbody>\n",
       "</table>\n",
       "</div>"
      ],
      "text/plain": [
       "                                             Article       Author  \\\n",
       "0  Report: PSG turns down Miralem Pjanic-Marco Ve...  Danny Penza   \n",
       "0  Report: PSG turns down Miralem Pjanic-Marco Ve...  Danny Penza   \n",
       "0  Report: PSG turns down Miralem Pjanic-Marco Ve...  Danny Penza   \n",
       "0  Report: PSG turns down Miralem Pjanic-Marco Ve...  Danny Penza   \n",
       "0  Report: PSG turns down Miralem Pjanic-Marco Ve...  Danny Penza   \n",
       "\n",
       "              Publish Date Comment Title  \\\n",
       "0  Apr 3, 2020, 3:07am PDT                 \n",
       "0  Apr 3, 2020, 3:07am PDT                 \n",
       "0  Apr 3, 2020, 3:07am PDT                 \n",
       "0  Apr 3, 2020, 3:07am PDT                 \n",
       "0  Apr 3, 2020, 3:07am PDT                 \n",
       "\n",
       "                                        Comment Body         Poster  \\\n",
       "0  interesting video about how some stats should/...          resko   \n",
       "0            Well that was a tough decision for PSG!        Paolo C   \n",
       "0  hmmm…………maybe if we added Khedira……….or Bernar...      Ricardo 1   \n",
       "0  Interest chart here. Various strikers over/und...        Paolo C   \n",
       "0        Dybala is an amazing finisher\\nso much this  #finoallafine   \n",
       "\n",
       "           Date       Time Recs  \n",
       "0  Apr 3, 2020     6:37 AM    0  \n",
       "0  Apr 3, 2020     6:42 AM    8  \n",
       "0  Apr 3, 2020    10:44 AM    0  \n",
       "0  Apr 3, 2020     9:59 AM    6  \n",
       "0  Apr 5, 2020    11:50 PM    0  "
      ]
     },
     "execution_count": 58,
     "metadata": {},
     "output_type": "execute_result"
    }
   ],
   "source": [
    "comments_df.columns = ['Comment Title','Comment Body','Poster','Date','Time','Recs']\n",
    "\n",
    "# Adding article title and author to comments df\n",
    "comments_df.insert(0, 'Article', blog_title.text)\n",
    "comments_df.insert(1, 'Author', article_author.text)\n",
    "comments_df.insert(2, 'Publish Date', article_publish_date.text)\n",
    "\n",
    "\n",
    "comments_df.head()\n",
    "\n"
   ]
  },
  {
   "cell_type": "code",
   "execution_count": 59,
   "metadata": {},
   "outputs": [],
   "source": [
    "comments_df.to_csv('comments.csv', index=False)\n"
   ]
  },
  {
   "cell_type": "code",
   "execution_count": 40,
   "metadata": {},
   "outputs": [],
   "source": [
    "driver.quit()"
   ]
  }
 ],
 "metadata": {
  "kernelspec": {
   "display_name": "Python 3",
   "language": "python",
   "name": "python3"
  },
  "language_info": {
   "codemirror_mode": {
    "name": "ipython",
    "version": 3
   },
   "file_extension": ".py",
   "mimetype": "text/x-python",
   "name": "python",
   "nbconvert_exporter": "python",
   "pygments_lexer": "ipython3",
   "version": "3.7.6"
  }
 },
 "nbformat": 4,
 "nbformat_minor": 2
}
