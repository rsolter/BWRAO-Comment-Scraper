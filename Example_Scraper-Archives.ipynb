{
 "cells": [
  {
   "cell_type": "markdown",
   "metadata": {},
   "source": [
    "Example of looping through all comments, and storing info in a dataframe"
   ]
  },
  {
   "cell_type": "code",
   "execution_count": 65,
   "metadata": {},
   "outputs": [],
   "source": [
    "#Grab packages\n",
    "\n",
    "import pandas as pd\n",
    "from selenium import webdriver\n",
    "from selenium.webdriver.common.by import By\n",
    "from selenium.webdriver.support.ui import WebDriverWait\n",
    "from selenium.webdriver.support import expected_conditions as EC"
   ]
  },
  {
   "cell_type": "code",
   "execution_count": 66,
   "metadata": {
    "scrolled": true
   },
   "outputs": [
    {
     "name": "stderr",
     "output_type": "stream",
     "text": [
      "/home/ravisolter/anaconda3/lib/python3.7/site-packages/ipykernel_launcher.py:11: DeprecationWarning: use options instead of chrome_options\n",
      "  # This is added back by InteractiveShellApp.init_path()\n"
     ]
    }
   ],
   "source": [
    "#Connect to webpage\n",
    "\n",
    "options = webdriver.ChromeOptions()\n",
    "#options.add_argument('--headless')\n",
    "\n",
    "\n",
    "options.binary_location = \"/usr/bin/google-chrome\"\n",
    "chrome_driver_binary = \"/usr/local/bin/chromedriver\"\n",
    "#options.binary_location = \"C:/Program Files (x86)/Google/Chrome/Application/chrome.exe\"\n",
    "#chrome_driver_binary = \"C:/Users/Alek/chromedriver\"\n",
    "driver = webdriver.Chrome(chrome_driver_binary, chrome_options=options)\n",
    "\n"
   ]
  },
  {
   "cell_type": "code",
   "execution_count": 67,
   "metadata": {},
   "outputs": [],
   "source": [
    "# Plan for scraping archives\n",
    "\n",
    "#    - create a list of archive URLs\n",
    "\n",
    "archive_periods = []\n",
    "\n",
    "for j in range(2007,2021):\n",
    "    for k in range(1,12):\n",
    "        single_period = 'https://www.blackwhitereadallover.com/archives/'+str(j)+'/'+str(k)\n",
    "        archive_periods.append(single_period)\n",
    "        ;\n",
    "        \n",
    "# Subsetting out some periods for which there are no articles\n",
    "active_archives = archive_periods[1:len(archive_periods)-8]\n",
    "        "
   ]
  },
  {
   "cell_type": "code",
   "execution_count": 64,
   "metadata": {},
   "outputs": [],
   "source": [
    "driver.get('https://www.blackwhitereadallover.com/archives/2007/2')\n",
    "for a in driver.find_elements_by_xpath('.//span[contains(text(), \"data-analytics-link\")]/a'):\n",
    "    print(a.get_attribute('href'));\n",
    "    \n",
    "   \n",
    "    "
   ]
  },
  {
   "cell_type": "code",
   "execution_count": 89,
   "metadata": {},
   "outputs": [
    {
     "name": "stdout",
     "output_type": "stream",
     "text": [
      "https://www.blackwhitereadallover.com/2007/2/28/2836773/february-27-afternoon-quick-notes\n",
      "https://www.blackwhitereadallover.com/2007/2/27/2836772/juventus-modena-wrap-up-leaving-it-late\n",
      "https://www.blackwhitereadallover.com/2007/2/23/2836771/thursday-feb-22-quick-notes-crybabies-politics-cocaine-lindsay-lohan\n",
      "https://www.blackwhitereadallover.com/2007/2/22/2836770/weekend-wrap-up-a-little-tardy\n",
      "https://www.blackwhitereadallover.com/2007/2/16/2836769/stop-the-presses-tudor-stays-and-other-junk\n",
      "https://www.blackwhitereadallover.com/2007/2/15/2836768/february-15-2007-quick-notes\n",
      "https://www.blackwhitereadallover.com/2007/2/15/2836767/primavera-player-profile-sebastian-giovinco\n",
      "https://www.blackwhitereadallover.com/2007/2/14/2836766/march-12-2003-igor-tudor-day\n"
     ]
    }
   ],
   "source": [
    "#    - Visit earch URL and check to see if the \"load more\" button exists (will when articles > 30)\n",
    "#    - collect the article URLS from each archive page\n",
    "\n",
    "\n",
    "# visiting a test page\n",
    "\n",
    "for u in range(0,1):\n",
    "    #print(u)\n",
    "    driver.get(active_archives[u])\n",
    "    \n",
    "    # Retrieving number of articles from title \n",
    "    archive_title = driver.find_element_by_xpath('/html/body/div[1]/div[2]/h1')\n",
    "    #print(archive_title.text)\n",
    "    \n",
    "    start = archive_title.text.find('(')+1\n",
    "    start = archive_title.text[start:]\n",
    "    articles = int(start.replace(')',''))\n",
    "    #print(articles)\n",
    "    \n",
    "    \n",
    "    # Retrieving the article links themselves\n",
    "    for q in range(0,articles):\n",
    "        \n",
    "        article_link = driver.find_elements_by_css_selector('h2.c-entry-box--compact__title>a')\n",
    "        article_link = article_link[q].get_attribute('href')\n",
    "        \n",
    "        print(article_link) \n",
    "           \n",
    "    ;\n",
    "\n"
   ]
  },
  {
   "cell_type": "code",
   "execution_count": null,
   "metadata": {},
   "outputs": [],
   "source": []
  },
  {
   "cell_type": "code",
   "execution_count": null,
   "metadata": {},
   "outputs": [],
   "source": [
    "driver.quit() "
   ]
  },
  {
   "cell_type": "code",
   "execution_count": 5,
   "metadata": {},
   "outputs": [],
   "source": [
    "# Have selenium wait until the BWRAO logo loads (therefore, has logged in properly)\n",
    "element = WebDriverWait(driver, 100).until(\n",
    "        EC.presence_of_element_located((By.CLASS_NAME, \"c-global-header__logo-large\"))\n",
    "    )\n",
    "\n",
    "\n"
   ]
  },
  {
   "cell_type": "code",
   "execution_count": 6,
   "metadata": {
    "scrolled": true
   },
   "outputs": [
    {
     "name": "stdout",
     "output_type": "stream",
     "text": [
      "Report: PSG turns down Miralem Pjanic-Marco Verratti swap deal\n",
      "Danny Penza\n"
     ]
    }
   ],
   "source": [
    "\n",
    "### Insert loop here to visit relevant URLs\n",
    "\n",
    "driver.get(\"https://www.blackwhitereadallover.com/2020/4/3/21206623/miralem-pjanic-marco-verratti-juventus-paris-saint-germain-2020-serie-a-summer-transfer-rumors#comments\")\n",
    "\n",
    "## Grab article title, author\n",
    "\n",
    "blog_title = driver.find_element_by_xpath('//*[@id=\"content\"]/article/div[1]/div[1]/div[2]/h1')\n",
    "print(blog_title.text)\n",
    "\n",
    "article_author = driver.find_element_by_xpath('//*[@id=\"content\"]/article/div[1]/div[1]/div[3]/span[1]/span[1]/a/span')\n",
    "print(article_author.text)\n",
    "\n",
    "element = WebDriverWait(driver, 100).until(\n",
    "        EC.presence_of_element_located((By.CLASS_NAME, \"c-comments__list\"))\n",
    "    )\n",
    "\n",
    "#Find number of comments\n",
    "\n",
    "n_comments = driver.find_element_by_xpath('//*[@id=\"comments\"]/div[1]/span/span')\n",
    "n_comments = int(n_comments.text)\n"
   ]
  },
  {
   "cell_type": "code",
   "execution_count": 7,
   "metadata": {},
   "outputs": [],
   "source": [
    "# Loop through all comments, taking title, content, and meta data (recs, author, etc)\n",
    "\n",
    "from selenium.common.exceptions import NoSuchElementException\n",
    "\n",
    "comments_df = pd.DataFrame()\n",
    "\n",
    "for i in range(1,n_comments+1):\n",
    "    \n",
    "    xpath = '//*[@id=\"comments\"]/div[2]/div['+str(i)+']'\n",
    "     \n",
    "    comment_title = driver.find_element_by_xpath(xpath + '/div[1]')\n",
    "    comment_body = driver.find_element_by_xpath(xpath + '/div[2]')\n",
    "    \n",
    "    \n",
    "    if driver.find_elements_by_xpath(xpath + '/div[4]'):\n",
    "        poster = driver.find_element_by_xpath(xpath + '/div[4]/span[1]/a[1]')\n",
    "        post_date = driver.find_element_by_xpath(xpath + '/div[4]/span[1]/a[2]')\n",
    "        \n",
    "        if driver.find_elements_by_xpath(xpath + '/div[4]/span[2]/button[2]/span[2]'):\n",
    "            recs = driver.find_element_by_xpath(xpath + '/div[4]/span[2]/button[2]/span[2]')\n",
    "            recs = int(recs.text.replace('(','').replace(')',''))\n",
    "        else:\n",
    "            recs = 0\n",
    "    else:\n",
    "        poster = driver.find_element_by_xpath(xpath + '/div[3]/span[1]/a[1]')\n",
    "        post_date = driver.find_element_by_xpath(xpath + '/div[3]/span[1]/a[2]')\n",
    "        \n",
    "        if driver.find_elements_by_xpath(xpath + '/div[3]/span[2]/button[2]/span[2]'):\n",
    "            recs = driver.find_element_by_xpath(xpath + '/div[3]/span[2]/button[2]/span[2]')\n",
    "            recs = int(recs.text.replace('(','').replace(')',''))\n",
    "        else:\n",
    "            recs = 0\n",
    "\n",
    "    comment = pd.DataFrame([comment_title.text,comment_body.text,poster.text,post_date.text.split('|')[0],\n",
    "                            post_date.text.split('|')[1],recs])\n",
    "    comments_df = pd.concat([comments_df,comment.T])\n",
    "    \n",
    "    ;\n",
    "   "
   ]
  },
  {
   "cell_type": "code",
   "execution_count": 8,
   "metadata": {
    "scrolled": true
   },
   "outputs": [
    {
     "data": {
      "text/html": [
       "<div>\n",
       "<style scoped>\n",
       "    .dataframe tbody tr th:only-of-type {\n",
       "        vertical-align: middle;\n",
       "    }\n",
       "\n",
       "    .dataframe tbody tr th {\n",
       "        vertical-align: top;\n",
       "    }\n",
       "\n",
       "    .dataframe thead th {\n",
       "        text-align: right;\n",
       "    }\n",
       "</style>\n",
       "<table border=\"1\" class=\"dataframe\">\n",
       "  <thead>\n",
       "    <tr style=\"text-align: right;\">\n",
       "      <th></th>\n",
       "      <th>Article</th>\n",
       "      <th>Author</th>\n",
       "      <th>Comment Title</th>\n",
       "      <th>Comment Body</th>\n",
       "      <th>Poster</th>\n",
       "      <th>Date</th>\n",
       "      <th>Time</th>\n",
       "      <th>Recs</th>\n",
       "    </tr>\n",
       "  </thead>\n",
       "  <tbody>\n",
       "    <tr>\n",
       "      <th>0</th>\n",
       "      <td>Report: PSG turns down Miralem Pjanic-Marco Ve...</td>\n",
       "      <td>Danny Penza</td>\n",
       "      <td></td>\n",
       "      <td>interesting video about how some stats should/...</td>\n",
       "      <td>resko</td>\n",
       "      <td>Apr 3, 2020</td>\n",
       "      <td>6:37 AM</td>\n",
       "      <td>0</td>\n",
       "    </tr>\n",
       "    <tr>\n",
       "      <th>0</th>\n",
       "      <td>Report: PSG turns down Miralem Pjanic-Marco Ve...</td>\n",
       "      <td>Danny Penza</td>\n",
       "      <td></td>\n",
       "      <td>Well that was a tough decision for PSG!</td>\n",
       "      <td>Paolo C</td>\n",
       "      <td>Apr 3, 2020</td>\n",
       "      <td>6:42 AM</td>\n",
       "      <td>8</td>\n",
       "    </tr>\n",
       "    <tr>\n",
       "      <th>0</th>\n",
       "      <td>Report: PSG turns down Miralem Pjanic-Marco Ve...</td>\n",
       "      <td>Danny Penza</td>\n",
       "      <td></td>\n",
       "      <td>hmmm…………maybe if we added Khedira……….or Bernar...</td>\n",
       "      <td>Ricardo 1</td>\n",
       "      <td>Apr 3, 2020</td>\n",
       "      <td>10:44 AM</td>\n",
       "      <td>0</td>\n",
       "    </tr>\n",
       "    <tr>\n",
       "      <th>0</th>\n",
       "      <td>Report: PSG turns down Miralem Pjanic-Marco Ve...</td>\n",
       "      <td>Danny Penza</td>\n",
       "      <td></td>\n",
       "      <td>Interest chart here. Various strikers over/und...</td>\n",
       "      <td>Paolo C</td>\n",
       "      <td>Apr 3, 2020</td>\n",
       "      <td>9:59 AM</td>\n",
       "      <td>6</td>\n",
       "    </tr>\n",
       "    <tr>\n",
       "      <th>0</th>\n",
       "      <td>Report: PSG turns down Miralem Pjanic-Marco Ve...</td>\n",
       "      <td>Danny Penza</td>\n",
       "      <td></td>\n",
       "      <td>Dybala is an amazing finisher\\nso much this</td>\n",
       "      <td>#finoallafine</td>\n",
       "      <td>Apr 5, 2020</td>\n",
       "      <td>11:50 PM</td>\n",
       "      <td>0</td>\n",
       "    </tr>\n",
       "  </tbody>\n",
       "</table>\n",
       "</div>"
      ],
      "text/plain": [
       "                                             Article       Author  \\\n",
       "0  Report: PSG turns down Miralem Pjanic-Marco Ve...  Danny Penza   \n",
       "0  Report: PSG turns down Miralem Pjanic-Marco Ve...  Danny Penza   \n",
       "0  Report: PSG turns down Miralem Pjanic-Marco Ve...  Danny Penza   \n",
       "0  Report: PSG turns down Miralem Pjanic-Marco Ve...  Danny Penza   \n",
       "0  Report: PSG turns down Miralem Pjanic-Marco Ve...  Danny Penza   \n",
       "\n",
       "  Comment Title                                       Comment Body  \\\n",
       "0                interesting video about how some stats should/...   \n",
       "0                          Well that was a tough decision for PSG!   \n",
       "0                hmmm…………maybe if we added Khedira……….or Bernar...   \n",
       "0                Interest chart here. Various strikers over/und...   \n",
       "0                      Dybala is an amazing finisher\\nso much this   \n",
       "\n",
       "          Poster          Date       Time Recs  \n",
       "0          resko  Apr 3, 2020     6:37 AM    0  \n",
       "0        Paolo C  Apr 3, 2020     6:42 AM    8  \n",
       "0      Ricardo 1  Apr 3, 2020    10:44 AM    0  \n",
       "0        Paolo C  Apr 3, 2020     9:59 AM    6  \n",
       "0  #finoallafine  Apr 5, 2020    11:50 PM    0  "
      ]
     },
     "execution_count": 8,
     "metadata": {},
     "output_type": "execute_result"
    }
   ],
   "source": [
    "comments_df.columns = ['Comment Title','Comment Body','Poster','Date','Time','Recs']\n",
    "\n",
    "# Adding article title and author to comments df\n",
    "comments_df.insert(0, 'Article', blog_title.text)\n",
    "comments_df.insert(1, 'Author', article_author.text)\n",
    "\n",
    "comments_df.head()\n",
    "\n"
   ]
  },
  {
   "cell_type": "code",
   "execution_count": 36,
   "metadata": {},
   "outputs": [],
   "source": [
    "comments_df.to_csv('comments.csv', index=False)\n"
   ]
  },
  {
   "cell_type": "code",
   "execution_count": 40,
   "metadata": {},
   "outputs": [],
   "source": [
    "driver.quit()"
   ]
  }
 ],
 "metadata": {
  "kernelspec": {
   "display_name": "Python 3",
   "language": "python",
   "name": "python3"
  },
  "language_info": {
   "codemirror_mode": {
    "name": "ipython",
    "version": 3
   },
   "file_extension": ".py",
   "mimetype": "text/x-python",
   "name": "python",
   "nbconvert_exporter": "python",
   "pygments_lexer": "ipython3",
   "version": "3.7.6"
  }
 },
 "nbformat": 4,
 "nbformat_minor": 2
}
