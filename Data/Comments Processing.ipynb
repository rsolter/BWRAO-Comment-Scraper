{
 "cells": [
  {
   "cell_type": "code",
   "execution_count": 1,
   "metadata": {},
   "outputs": [],
   "source": [
    "import pandas as pd\n",
    "import datetime as dt"
   ]
  },
  {
   "cell_type": "markdown",
   "metadata": {},
   "source": [
    "## Importing"
   ]
  },
  {
   "cell_type": "code",
   "execution_count": 2,
   "metadata": {},
   "outputs": [
    {
     "name": "stderr",
     "output_type": "stream",
     "text": [
      "/home/ravisolter/anaconda3/lib/python3.7/site-packages/IPython/core/interactiveshell.py:3063: DtypeWarning: Columns (3) have mixed types.Specify dtype option on import or set low_memory=False.\n",
      "  interactivity=interactivity, compiler=compiler, result=result)\n"
     ]
    },
    {
     "name": "stdout",
     "output_type": "stream",
     "text": [
      "<class 'pandas.core.frame.DataFrame'>\n",
      "Int64Index: 630292 entries, 0 to 130291\n",
      "Data columns (total 9 columns):\n",
      " #   Column          Non-Null Count   Dtype  \n",
      "---  ------          --------------   -----  \n",
      " 0   Article_Title   630292 non-null  object \n",
      " 1   Article_Author  630292 non-null  object \n",
      " 2   Article_Date    630292 non-null  object \n",
      " 3   Comment_Title   119710 non-null  object \n",
      " 4   Comment_Body    593113 non-null  object \n",
      " 5   Comment_Poster  630292 non-null  object \n",
      " 6   Comment_Date    630292 non-null  object \n",
      " 7   Comment_Time    630292 non-null  object \n",
      " 8   Comment_Recs    0 non-null       float64\n",
      "dtypes: float64(1), object(8)\n",
      "memory usage: 48.1+ MB\n"
     ]
    }
   ],
   "source": [
    "#types\n",
    "c1 = pd.read_csv(\"Comments1.csv\") \n",
    "c2 = pd.read_csv(\"Comments2.csv\")\n",
    "c3 = pd.read_csv(\"Comments3.csv\")\n",
    "c4 = pd.read_csv(\"Comments4.csv\")\n",
    "c5 = pd.read_csv(\"Comments5.csv\")\n",
    "c6 = pd.read_csv(\"Comments6.csv\") \n",
    "full = c1.append([c2,c3,c4,c5,c6])\n",
    "full.info(verbose=True)"
   ]
  },
  {
   "cell_type": "markdown",
   "metadata": {},
   "source": [
    "## Processing"
   ]
  },
  {
   "cell_type": "code",
   "execution_count": 3,
   "metadata": {},
   "outputs": [],
   "source": [
    "# Ordering\n",
    "full = full.sort_values([\"Article_Date\",\"Comment_Date\",\"Comment_Time\"])"
   ]
  },
  {
   "cell_type": "code",
   "execution_count": 4,
   "metadata": {},
   "outputs": [
    {
     "name": "stderr",
     "output_type": "stream",
     "text": [
      "/home/ravisolter/anaconda3/lib/python3.7/site-packages/dateutil/parser/_parser.py:1218: UnknownTimezoneWarning: tzname PDT identified but not understood.  Pass `tzinfos` argument in order to correctly return a timezone-aware datetime.  In a future version, this will raise an exception.\n",
      "  category=UnknownTimezoneWarning)\n",
      "/home/ravisolter/anaconda3/lib/python3.7/site-packages/dateutil/parser/_parser.py:1218: UnknownTimezoneWarning: tzname CEST identified but not understood.  Pass `tzinfos` argument in order to correctly return a timezone-aware datetime.  In a future version, this will raise an exception.\n",
      "  category=UnknownTimezoneWarning)\n",
      "/home/ravisolter/anaconda3/lib/python3.7/site-packages/dateutil/parser/_parser.py:1218: UnknownTimezoneWarning: tzname PST identified but not understood.  Pass `tzinfos` argument in order to correctly return a timezone-aware datetime.  In a future version, this will raise an exception.\n",
      "  category=UnknownTimezoneWarning)\n",
      "/home/ravisolter/anaconda3/lib/python3.7/site-packages/dateutil/parser/_parser.py:1218: UnknownTimezoneWarning: tzname CET identified but not understood.  Pass `tzinfos` argument in order to correctly return a timezone-aware datetime.  In a future version, this will raise an exception.\n",
      "  category=UnknownTimezoneWarning)\n"
     ]
    }
   ],
   "source": [
    "# Redeclaring columns\n",
    "full[\"Article_Date\"] = pd.to_datetime(full[\"Article_Date\"]).dt.date\n",
    "full[\"Comment_Date\"] = pd.to_datetime(full[\"Comment_Date\"]).dt.date\n",
    "full[\"Article_Author\"] = full[\"Article_Author\"].astype(\"category\")\n",
    "full[\"Comment_Poster\"] = full[\"Comment_Poster\"].astype(\"category\")"
   ]
  },
  {
   "cell_type": "code",
   "execution_count": 5,
   "metadata": {},
   "outputs": [
    {
     "data": {
      "text/html": [
       "<div>\n",
       "<style scoped>\n",
       "    .dataframe tbody tr th:only-of-type {\n",
       "        vertical-align: middle;\n",
       "    }\n",
       "\n",
       "    .dataframe tbody tr th {\n",
       "        vertical-align: top;\n",
       "    }\n",
       "\n",
       "    .dataframe thead th {\n",
       "        text-align: right;\n",
       "    }\n",
       "</style>\n",
       "<table border=\"1\" class=\"dataframe\">\n",
       "  <thead>\n",
       "    <tr style=\"text-align: right;\">\n",
       "      <th></th>\n",
       "      <th>Article_Title</th>\n",
       "      <th>Article_Author</th>\n",
       "      <th>Article_Date</th>\n",
       "      <th>Comment_Title</th>\n",
       "      <th>Comment_Body</th>\n",
       "      <th>Comment_Poster</th>\n",
       "      <th>Comment_Date</th>\n",
       "      <th>Comment_Time</th>\n",
       "      <th>Comment_Recs</th>\n",
       "    </tr>\n",
       "  </thead>\n",
       "  <tbody>\n",
       "    <tr>\n",
       "      <th>27814</th>\n",
       "      <td>An Interview with Moggi's Lawyer</td>\n",
       "      <td>The Offside Juventus</td>\n",
       "      <td>2010-04-01</td>\n",
       "      <td>NaN</td>\n",
       "      <td>Apparently Rafa Benitez will be our next coach...</td>\n",
       "      <td>Juve 1897</td>\n",
       "      <td>2010-04-01</td>\n",
       "      <td>10:40 PM</td>\n",
       "      <td>NaN</td>\n",
       "    </tr>\n",
       "    <tr>\n",
       "      <th>27815</th>\n",
       "      <td>An Interview with Moggi's Lawyer</td>\n",
       "      <td>The Offside Juventus</td>\n",
       "      <td>2010-04-01</td>\n",
       "      <td>NaN</td>\n",
       "      <td>Just ran across an interesting Juventus site m...</td>\n",
       "      <td>Juve 1897</td>\n",
       "      <td>2010-04-01</td>\n",
       "      <td>11:17 PM</td>\n",
       "      <td>NaN</td>\n",
       "    </tr>\n",
       "    <tr>\n",
       "      <th>27788</th>\n",
       "      <td>An Interview with Moggi's Lawyer</td>\n",
       "      <td>The Offside Juventus</td>\n",
       "      <td>2010-04-01</td>\n",
       "      <td>NaN</td>\n",
       "      <td>Also, VecchiaSignora.com is leading an onlite ...</td>\n",
       "      <td>alessio</td>\n",
       "      <td>2010-04-01</td>\n",
       "      <td>11:52 AM</td>\n",
       "      <td>NaN</td>\n",
       "    </tr>\n",
       "    <tr>\n",
       "      <th>27789</th>\n",
       "      <td>An Interview with Moggi's Lawyer</td>\n",
       "      <td>The Offside Juventus</td>\n",
       "      <td>2010-04-01</td>\n",
       "      <td>NaN</td>\n",
       "      <td>Finish the hearing by june , Moggi’s ban shoul...</td>\n",
       "      <td>Mohammed</td>\n",
       "      <td>2010-04-01</td>\n",
       "      <td>12:21 PM</td>\n",
       "      <td>NaN</td>\n",
       "    </tr>\n",
       "    <tr>\n",
       "      <th>27790</th>\n",
       "      <td>An Interview with Moggi's Lawyer</td>\n",
       "      <td>The Offside Juventus</td>\n",
       "      <td>2010-04-01</td>\n",
       "      <td>NaN</td>\n",
       "      <td>Alessio do you think the hearing will be over ...</td>\n",
       "      <td>Mohammed</td>\n",
       "      <td>2010-04-01</td>\n",
       "      <td>12:27 PM</td>\n",
       "      <td>NaN</td>\n",
       "    </tr>\n",
       "  </tbody>\n",
       "</table>\n",
       "</div>"
      ],
      "text/plain": [
       "                          Article_Title        Article_Author Article_Date  \\\n",
       "27814  An Interview with Moggi's Lawyer  The Offside Juventus   2010-04-01   \n",
       "27815  An Interview with Moggi's Lawyer  The Offside Juventus   2010-04-01   \n",
       "27788  An Interview with Moggi's Lawyer  The Offside Juventus   2010-04-01   \n",
       "27789  An Interview with Moggi's Lawyer  The Offside Juventus   2010-04-01   \n",
       "27790  An Interview with Moggi's Lawyer  The Offside Juventus   2010-04-01   \n",
       "\n",
       "      Comment_Title                                       Comment_Body  \\\n",
       "27814           NaN  Apparently Rafa Benitez will be our next coach...   \n",
       "27815           NaN  Just ran across an interesting Juventus site m...   \n",
       "27788           NaN  Also, VecchiaSignora.com is leading an onlite ...   \n",
       "27789           NaN  Finish the hearing by june , Moggi’s ban shoul...   \n",
       "27790           NaN  Alessio do you think the hearing will be over ...   \n",
       "\n",
       "      Comment_Poster Comment_Date Comment_Time  Comment_Recs  \n",
       "27814     Juve 1897    2010-04-01     10:40 PM           NaN  \n",
       "27815     Juve 1897    2010-04-01     11:17 PM           NaN  \n",
       "27788       alessio    2010-04-01     11:52 AM           NaN  \n",
       "27789      Mohammed    2010-04-01     12:21 PM           NaN  \n",
       "27790      Mohammed    2010-04-01     12:27 PM           NaN  "
      ]
     },
     "execution_count": 5,
     "metadata": {},
     "output_type": "execute_result"
    }
   ],
   "source": [
    "full.head()"
   ]
  },
  {
   "cell_type": "code",
   "execution_count": 6,
   "metadata": {},
   "outputs": [
    {
     "name": "stdout",
     "output_type": "stream",
     "text": [
      "<class 'pandas.core.frame.DataFrame'>\n",
      "Int64Index: 630292 entries, 27814 to 66046\n",
      "Data columns (total 9 columns):\n",
      " #   Column          Non-Null Count   Dtype   \n",
      "---  ------          --------------   -----   \n",
      " 0   Article_Title   630292 non-null  object  \n",
      " 1   Article_Author  630292 non-null  category\n",
      " 2   Article_Date    630292 non-null  object  \n",
      " 3   Comment_Title   119710 non-null  object  \n",
      " 4   Comment_Body    593113 non-null  object  \n",
      " 5   Comment_Poster  630292 non-null  category\n",
      " 6   Comment_Date    630292 non-null  object  \n",
      " 7   Comment_Time    630292 non-null  object  \n",
      " 8   Comment_Recs    0 non-null       float64 \n",
      "dtypes: category(2), float64(1), object(6)\n",
      "memory usage: 40.5+ MB\n"
     ]
    }
   ],
   "source": [
    "full.info(verbose=True) # Formatting above dropped file size by ~15%"
   ]
  },
  {
   "cell_type": "markdown",
   "metadata": {},
   "source": [
    "## Export"
   ]
  },
  {
   "cell_type": "code",
   "execution_count": 7,
   "metadata": {},
   "outputs": [],
   "source": [
    "full_no_body = full.drop(\"Comment_Body\",axis=1)"
   ]
  },
  {
   "cell_type": "code",
   "execution_count": 8,
   "metadata": {},
   "outputs": [],
   "source": [
    "full_no_body.to_csv(\"Full_Comments_no_body.csv\")"
   ]
  },
  {
   "cell_type": "code",
   "execution_count": 97,
   "metadata": {},
   "outputs": [],
   "source": [
    "full.to_csv(\"Full_Comments.csv\")"
   ]
  },
  {
   "cell_type": "code",
   "execution_count": null,
   "metadata": {},
   "outputs": [],
   "source": []
  }
 ],
 "metadata": {
  "kernelspec": {
   "display_name": "Python 3",
   "language": "python",
   "name": "python3"
  },
  "language_info": {
   "codemirror_mode": {
    "name": "ipython",
    "version": 3
   },
   "file_extension": ".py",
   "mimetype": "text/x-python",
   "name": "python",
   "nbconvert_exporter": "python",
   "pygments_lexer": "ipython3",
   "version": "3.7.6"
  }
 },
 "nbformat": 4,
 "nbformat_minor": 4
}
