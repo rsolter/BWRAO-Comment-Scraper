{
 "cells": [
  {
   "cell_type": "code",
   "execution_count": 64,
   "metadata": {},
   "outputs": [
    {
     "name": "stdout",
     "output_type": "stream",
     "text": [
      "[nltk_data] Downloading package vader_lexicon to\n",
      "[nltk_data]     C:\\Users\\Alek\\AppData\\Roaming\\nltk_data...\n",
      "[nltk_data]   Package vader_lexicon is already up-to-date!\n",
      "[nltk_data] Downloading package punkt to\n",
      "[nltk_data]     C:\\Users\\Alek\\AppData\\Roaming\\nltk_data...\n",
      "[nltk_data]   Package punkt is already up-to-date!\n"
     ]
    }
   ],
   "source": [
    "#Loading Packages\n",
    "\n",
    "import pandas as pd\n",
    "import nltk\n",
    "import numpy as np\n",
    "nltk.download('vader_lexicon')\n",
    "nltk.download('punkt')\n",
    "from nltk.sentiment.vader import SentimentIntensityAnalyzer"
   ]
  },
  {
   "cell_type": "code",
   "execution_count": 3,
   "metadata": {},
   "outputs": [
    {
     "name": "stderr",
     "output_type": "stream",
     "text": [
      "C:\\ProgramData\\Anaconda3\\lib\\site-packages\\IPython\\core\\interactiveshell.py:3049: DtypeWarning: Columns (3) have mixed types. Specify dtype option on import or set low_memory=False.\n",
      "  interactivity=interactivity, compiler=compiler, result=result)\n",
      "C:\\ProgramData\\Anaconda3\\lib\\site-packages\\ipykernel_launcher.py:19: FutureWarning: Sorting because non-concatenation axis is not aligned. A future version\n",
      "of pandas will change to not sort by default.\n",
      "\n",
      "To accept the future behavior, pass 'sort=False'.\n",
      "\n",
      "To retain the current behavior and silence the warning, pass 'sort=True'.\n",
      "\n"
     ]
    }
   ],
   "source": [
    "#Importing Comments\n",
    "df1 = pd.read_csv('Data/Comments1.csv')\n",
    "df2 = pd.read_csv('Data/Comments2.csv')\n",
    "df3 = pd.read_csv('Data/Comments3.csv')\n",
    "df4 = pd.read_csv('Data/Comments4.csv')\n",
    "df5 = pd.read_csv('Data/Comments5.csv')\n",
    "df6 = pd.read_csv('Data/Comments6.csv')\n",
    "\n",
    "#Making sure the column names are the same\n",
    "df1.columns = ['Article_Title','Article_Author','Article_Publish_Date','Comment_Title','Comment_Body',\n",
    "              'Comment_Poster','Comment_Date','Comment_Time','Comment_Recs']\n",
    "df2.columns = df1.columns\n",
    "df3.columns = df1.columns\n",
    "df4.columns = df1.columns\n",
    "df5.columns = df1.columns\n",
    "df5.columns = df1.columns\n",
    "\n",
    "#Joining\n",
    "comments = pd.concat([df1,df2,df3,df4,df5,df6])"
   ]
  },
  {
   "cell_type": "code",
   "execution_count": 4,
   "metadata": {},
   "outputs": [],
   "source": [
    "#List of unique Article Titles\n",
    "names = comments.Article_Title.unique()"
   ]
  },
  {
   "cell_type": "code",
   "execution_count": 5,
   "metadata": {},
   "outputs": [],
   "source": [
    "#Initialize the Vader Sentiment Tool\n",
    "sid = SentimentIntensityAnalyzer()"
   ]
  },
  {
   "cell_type": "markdown",
   "metadata": {},
   "source": [
    "Sid function provides the weighted scores for negative, neutral, and postitive words. It then gives a compound range from -1 to 1 for overall scores"
   ]
  },
  {
   "cell_type": "code",
   "execution_count": 42,
   "metadata": {},
   "outputs": [],
   "source": [
    "#String pad to tripple ' for vader\n",
    "\n",
    "test = comments.iloc[9,4]\n",
    "scores = sid.polarity_scores(test)"
   ]
  },
  {
   "cell_type": "code",
   "execution_count": 55,
   "metadata": {},
   "outputs": [
    {
     "data": {
      "text/plain": [
       "'I’m using Sofia’s.\\nDamn. Nice goal from Artmedia….Grygera was caught out sleeping on that one.'"
      ]
     },
     "execution_count": 55,
     "metadata": {},
     "output_type": "execute_result"
    }
   ],
   "source": [
    "test"
   ]
  },
  {
   "cell_type": "code",
   "execution_count": 63,
   "metadata": {},
   "outputs": [
    {
     "data": {
      "text/plain": [
       "{'neg': 0.0, 'neu': 0.473, 'pos': 0.527, 'compound': 0.8309}"
      ]
     },
     "execution_count": 63,
     "metadata": {},
     "output_type": "execute_result"
    }
   ],
   "source": [
    "scores"
   ]
  },
  {
   "cell_type": "code",
   "execution_count": 147,
   "metadata": {},
   "outputs": [
    {
     "name": "stdout",
     "output_type": "stream",
     "text": [
      "0 of 5214\n",
      "1000 of 5214\n",
      "2000 of 5214\n",
      "3000 of 5214\n",
      "4000 of 5214\n",
      "5000 of 5214\n"
     ]
    }
   ],
   "source": [
    "#creating a loop to find the average compound scores for articles\n",
    "scores = []\n",
    "date = []\n",
    "ncomm = []\n",
    "\n",
    "for i in range(0,len(names)):\n",
    "    \n",
    "    if (i / 1000 == i // 1000) | (i == len(names)):\n",
    "        print(str(i)+' of '+str(len(names)))\n",
    "        \n",
    "    #filter comments to the appropriate article, save the number of comments\n",
    "    temp = comments[comments.Article_Title == names[i]]\n",
    "    ncomm.append(temp.shape[0])\n",
    "    \n",
    "    \n",
    "    if temp.shape[0] != 0:\n",
    "        temp_scores = []\n",
    "        for j in range(0,temp.shape[0]):\n",
    "            \n",
    "            #Grab comment\n",
    "            temp2 = temp.iloc[j,4]\n",
    "            \n",
    "            #if no comment (nan), make it an empty string\n",
    "            if type(temp2) == float:\n",
    "                temp2 = \"\"\n",
    "            \n",
    "            #removing leftovers from html\n",
    "            temp2 = temp2.replace('\\r','').replace('\\n','').replace('\\p','')\n",
    "            \n",
    "            #find score and save score into a temporary array\n",
    "            temp2 = sid.polarity_scores(temp2)\n",
    "            temp_scores.append(temp2['compound'])      \n",
    "        \n",
    "    #Save the date, and average score of all comments\n",
    "    if type(temp.iloc[0,2]) != float: \n",
    "        date.append(temp.iloc[0,2])\n",
    "    else:\n",
    "        date.append(temp.iloc[0,5])\n",
    "    scores.append(np.mean(temp_scores))    "
   ]
  },
  {
   "cell_type": "code",
   "execution_count": 172,
   "metadata": {},
   "outputs": [
    {
     "name": "stderr",
     "output_type": "stream",
     "text": [
      "C:\\ProgramData\\Anaconda3\\lib\\site-packages\\dateutil\\parser\\_parser.py:1206: UnknownTimezoneWarning: tzname PST identified but not understood.  Pass `tzinfos` argument in order to correctly return a timezone-aware datetime.  In a future version, this will raise an exception.\n",
      "  category=UnknownTimezoneWarning)\n",
      "C:\\ProgramData\\Anaconda3\\lib\\site-packages\\dateutil\\parser\\_parser.py:1206: UnknownTimezoneWarning: tzname PDT identified but not understood.  Pass `tzinfos` argument in order to correctly return a timezone-aware datetime.  In a future version, this will raise an exception.\n",
      "  category=UnknownTimezoneWarning)\n"
     ]
    }
   ],
   "source": [
    "#Put it all into a dataframe\n",
    "average_sent = pd.DataFrame([names,scores,date,ncomm])\n",
    "average_sent = average_sent.T\n",
    "average_sent.columns = ['Article','Av_Score','Date','Number_of_Comments']\n",
    "\n",
    "#Sort by date\n",
    "average_sent['Date'] = pd.to_datetime(average_sent.Date)\n",
    "average_sent = average_sent.sort_values(by='Date')"
   ]
  },
  {
   "cell_type": "code",
   "execution_count": 180,
   "metadata": {},
   "outputs": [
    {
     "data": {
      "image/png": "[encoded data removed]",
      "text/plain": [
       "<Figure size 432x288 with 1 Axes>"
      ]
     },
     "metadata": {
      "needs_background": "light"
     },
     "output_type": "display_data"
    }
   ],
   "source": [
    "#Plot the suckas\n",
    "import matplotlib.pyplot as plt\n",
    "rolling_mean = average_sent.Av_Score.rolling(window=20).mean()\n",
    "\n",
    "plt.plot(average_sent.Date,average_sent.Av_Score,label='Raw Score')\n",
    "plt.plot(average_sent.Date,rolling_mean,label='Running Average',color='red')\n",
    "plt.gcf().autofmt_xdate()\n",
    "plt.show()"
   ]
  },
  {
   "cell_type": "code",
   "execution_count": 161,
   "metadata": {},
   "outputs": [],
   "source": [
    "# Some of the most positive and negative articles:\n",
    "\n",
    "average_sent = average_sent[average_sent.Date > '2008-01-01'].sort_values(by='Av_Score')"
   ]
  },
  {
   "cell_type": "code",
   "execution_count": 162,
   "metadata": {},
   "outputs": [
    {
     "data": {
      "text/html": [
       "<div>\n",
       "<style scoped>\n",
       "    .dataframe tbody tr th:only-of-type {\n",
       "        vertical-align: middle;\n",
       "    }\n",
       "\n",
       "    .dataframe tbody tr th {\n",
       "        vertical-align: top;\n",
       "    }\n",
       "\n",
       "    .dataframe thead th {\n",
       "        text-align: right;\n",
       "    }\n",
       "</style>\n",
       "<table border=\"1\" class=\"dataframe\">\n",
       "  <thead>\n",
       "    <tr style=\"text-align: right;\">\n",
       "      <th></th>\n",
       "      <th>Article</th>\n",
       "      <th>Av_Score</th>\n",
       "      <th>Date</th>\n",
       "      <th>Number_of_Comments</th>\n",
       "    </tr>\n",
       "  </thead>\n",
       "  <tbody>\n",
       "    <tr>\n",
       "      <th>2567</th>\n",
       "      <td>Juventus vs. Fiorentina, 2015 Serie A, Round 1...</td>\n",
       "      <td>-0.9054</td>\n",
       "      <td>2015-12-13 04:00:00</td>\n",
       "      <td>1</td>\n",
       "    </tr>\n",
       "    <tr>\n",
       "      <th>2712</th>\n",
       "      <td>Allegri: Juventus have a long way to go</td>\n",
       "      <td>-0.7045</td>\n",
       "      <td>2017-02-17 17:48:00</td>\n",
       "      <td>3</td>\n",
       "    </tr>\n",
       "    <tr>\n",
       "      <th>2835</th>\n",
       "      <td>Marotta optimistic ahead of Supercoppa</td>\n",
       "      <td>-0.5859</td>\n",
       "      <td>2016-12-20 12:07:00</td>\n",
       "      <td>1</td>\n",
       "    </tr>\n",
       "    <tr>\n",
       "      <th>2000</th>\n",
       "      <td>Report: Juventus interested in signing Croatia...</td>\n",
       "      <td>-0.5106</td>\n",
       "      <td>2014-11-22 03:00:00</td>\n",
       "      <td>1</td>\n",
       "    </tr>\n",
       "    <tr>\n",
       "      <th>4399</th>\n",
       "      <td>Report: Giorgio Chiellini signing a contract e...</td>\n",
       "      <td>-0.5106</td>\n",
       "      <td>2020-04-01 00:00:00</td>\n",
       "      <td>1</td>\n",
       "    </tr>\n",
       "    <tr>\n",
       "      <th>1953</th>\n",
       "      <td>Genoa 1-0 Juventus: Luca Antonini's last-gasp ...</td>\n",
       "      <td>-0.364375</td>\n",
       "      <td>2014-10-30 01:52:00</td>\n",
       "      <td>8</td>\n",
       "    </tr>\n",
       "    <tr>\n",
       "      <th>4397</th>\n",
       "      <td>Juve, players reach agreement on salaries duri...</td>\n",
       "      <td>-0.362159</td>\n",
       "      <td>2020-03-29 00:00:00</td>\n",
       "      <td>17</td>\n",
       "    </tr>\n",
       "    <tr>\n",
       "      <th>4088</th>\n",
       "      <td>Juventus’ Gianluigi Buffon, Paulo Dybala among...</td>\n",
       "      <td>-0.34925</td>\n",
       "      <td>2017-08-17 10:53:00</td>\n",
       "      <td>4</td>\n",
       "    </tr>\n",
       "    <tr>\n",
       "      <th>2865</th>\n",
       "      <td>Allegri relieved with Juventus win over Chievo</td>\n",
       "      <td>-0.3466</td>\n",
       "      <td>2016-11-06 08:54:00</td>\n",
       "      <td>3</td>\n",
       "    </tr>\n",
       "    <tr>\n",
       "      <th>3542</th>\n",
       "      <td>May’s Monthly Juventus Thoughts: Award Tour</td>\n",
       "      <td>-0.335125</td>\n",
       "      <td>2018-06-05 08:00:00</td>\n",
       "      <td>8</td>\n",
       "    </tr>\n",
       "  </tbody>\n",
       "</table>\n",
       "</div>"
      ],
      "text/plain": [
       "                                                Article  Av_Score  \\\n",
       "2567  Juventus vs. Fiorentina, 2015 Serie A, Round 1...   -0.9054   \n",
       "2712            Allegri: Juventus have a long way to go   -0.7045   \n",
       "2835             Marotta optimistic ahead of Supercoppa   -0.5859   \n",
       "2000  Report: Juventus interested in signing Croatia...   -0.5106   \n",
       "4399  Report: Giorgio Chiellini signing a contract e...   -0.5106   \n",
       "1953  Genoa 1-0 Juventus: Luca Antonini's last-gasp ... -0.364375   \n",
       "4397  Juve, players reach agreement on salaries duri... -0.362159   \n",
       "4088  Juventus’ Gianluigi Buffon, Paulo Dybala among...  -0.34925   \n",
       "2865     Allegri relieved with Juventus win over Chievo   -0.3466   \n",
       "3542        May’s Monthly Juventus Thoughts: Award Tour -0.335125   \n",
       "\n",
       "                    Date Number_of_Comments  \n",
       "2567 2015-12-13 04:00:00                  1  \n",
       "2712 2017-02-17 17:48:00                  3  \n",
       "2835 2016-12-20 12:07:00                  1  \n",
       "2000 2014-11-22 03:00:00                  1  \n",
       "4399 2020-04-01 00:00:00                  1  \n",
       "1953 2014-10-30 01:52:00                  8  \n",
       "4397 2020-03-29 00:00:00                 17  \n",
       "4088 2017-08-17 10:53:00                  4  \n",
       "2865 2016-11-06 08:54:00                  3  \n",
       "3542 2018-06-05 08:00:00                  8  "
      ]
     },
     "execution_count": 162,
     "metadata": {},
     "output_type": "execute_result"
    }
   ],
   "source": [
    "average_sent.head(10)"
   ]
  },
  {
   "cell_type": "code",
   "execution_count": 182,
   "metadata": {},
   "outputs": [
    {
     "data": {
      "text/html": [
       "<div>\n",
       "<style scoped>\n",
       "    .dataframe tbody tr th:only-of-type {\n",
       "        vertical-align: middle;\n",
       "    }\n",
       "\n",
       "    .dataframe tbody tr th {\n",
       "        vertical-align: top;\n",
       "    }\n",
       "\n",
       "    .dataframe thead th {\n",
       "        text-align: right;\n",
       "    }\n",
       "</style>\n",
       "<table border=\"1\" class=\"dataframe\">\n",
       "  <thead>\n",
       "    <tr style=\"text-align: right;\">\n",
       "      <th></th>\n",
       "      <th>Article</th>\n",
       "      <th>Av_Score</th>\n",
       "      <th>Date</th>\n",
       "      <th>Number_of_Comments</th>\n",
       "    </tr>\n",
       "  </thead>\n",
       "  <tbody>\n",
       "    <tr>\n",
       "      <th>4910</th>\n",
       "      <td>Allegri: Juventus won Scudetto despite constan...</td>\n",
       "      <td>0.9878</td>\n",
       "      <td>2019-04-22 00:00:00</td>\n",
       "      <td>1</td>\n",
       "    </tr>\n",
       "    <tr>\n",
       "      <th>1927</th>\n",
       "      <td>Carlos Tévez ends goal drought to secure Juven...</td>\n",
       "      <td>0.98655</td>\n",
       "      <td>2014-09-16 22:00:00</td>\n",
       "      <td>2</td>\n",
       "    </tr>\n",
       "    <tr>\n",
       "      <th>24</th>\n",
       "      <td>Juventus - Frosinone Preview: Can you smell th...</td>\n",
       "      <td>0.9787</td>\n",
       "      <td>2007-04-30 17:21:00</td>\n",
       "      <td>1</td>\n",
       "    </tr>\n",
       "    <tr>\n",
       "      <th>39</th>\n",
       "      <td>An analisis written by a Serie A genius!</td>\n",
       "      <td>0.9501</td>\n",
       "      <td>2007-08-20 18:45:00</td>\n",
       "      <td>2</td>\n",
       "    </tr>\n",
       "    <tr>\n",
       "      <th>10</th>\n",
       "      <td>Juventus News 3/6/07- The German Dream</td>\n",
       "      <td>0.91</td>\n",
       "      <td>2007-03-06 11:44:00</td>\n",
       "      <td>1</td>\n",
       "    </tr>\n",
       "    <tr>\n",
       "      <th>4549</th>\n",
       "      <td>Sarri still unclear about handball rules, does...</td>\n",
       "      <td>0.891</td>\n",
       "      <td>2019-11-01 00:00:00</td>\n",
       "      <td>1</td>\n",
       "    </tr>\n",
       "    <tr>\n",
       "      <th>16</th>\n",
       "      <td>Weekend Wrap Up - Salutate La Capolista!</td>\n",
       "      <td>0.838</td>\n",
       "      <td>2007-04-24 14:12:00</td>\n",
       "      <td>1</td>\n",
       "    </tr>\n",
       "    <tr>\n",
       "      <th>3920</th>\n",
       "      <td>Landmarks of Turin Awards: Juventus vs Barcelo...</td>\n",
       "      <td>0.8126</td>\n",
       "      <td>2017-11-23 09:30:00</td>\n",
       "      <td>1</td>\n",
       "    </tr>\n",
       "    <tr>\n",
       "      <th>4434</th>\n",
       "      <td>Sarri: Only perspective is on tomorrow’s match</td>\n",
       "      <td>0.7964</td>\n",
       "      <td>2020-02-21 00:00:00</td>\n",
       "      <td>1</td>\n",
       "    </tr>\n",
       "    <tr>\n",
       "      <th>14</th>\n",
       "      <td>Juventus - Verona: Wrap Up- Boum Boum 1-0</td>\n",
       "      <td>0.7897</td>\n",
       "      <td>2007-04-27 23:11:00</td>\n",
       "      <td>1</td>\n",
       "    </tr>\n",
       "  </tbody>\n",
       "</table>\n",
       "</div>"
      ],
      "text/plain": [
       "                                                Article Av_Score  \\\n",
       "4910  Allegri: Juventus won Scudetto despite constan...   0.9878   \n",
       "1927  Carlos Tévez ends goal drought to secure Juven...  0.98655   \n",
       "24    Juventus - Frosinone Preview: Can you smell th...   0.9787   \n",
       "39             An analisis written by a Serie A genius!   0.9501   \n",
       "10               Juventus News 3/6/07- The German Dream     0.91   \n",
       "4549  Sarri still unclear about handball rules, does...    0.891   \n",
       "16             Weekend Wrap Up - Salutate La Capolista!    0.838   \n",
       "3920  Landmarks of Turin Awards: Juventus vs Barcelo...   0.8126   \n",
       "4434     Sarri: Only perspective is on tomorrow’s match   0.7964   \n",
       "14            Juventus - Verona: Wrap Up- Boum Boum 1-0   0.7897   \n",
       "\n",
       "                    Date Number_of_Comments  \n",
       "4910 2019-04-22 00:00:00                  1  \n",
       "1927 2014-09-16 22:00:00                  2  \n",
       "24   2007-04-30 17:21:00                  1  \n",
       "39   2007-08-20 18:45:00                  2  \n",
       "10   2007-03-06 11:44:00                  1  \n",
       "4549 2019-11-01 00:00:00                  1  \n",
       "16   2007-04-24 14:12:00                  1  \n",
       "3920 2017-11-23 09:30:00                  1  \n",
       "4434 2020-02-21 00:00:00                  1  \n",
       "14   2007-04-27 23:11:00                  1  "
      ]
     },
     "execution_count": 182,
     "metadata": {},
     "output_type": "execute_result"
    }
   ],
   "source": [
    "average_sent = average_sent.sort_values(by='Av_Score',ascending=False)\n",
    "\n",
    "average_sent.head(10)"
   ]
  },
  {
   "cell_type": "code",
   "execution_count": 165,
   "metadata": {},
   "outputs": [],
   "source": [
    "#Redone with only articles that have more than 10 comments\n",
    "average_sent_adj = average_sent[average_sent.Number_of_Comments > 10]"
   ]
  },
  {
   "cell_type": "code",
   "execution_count": 179,
   "metadata": {},
   "outputs": [
    {
     "data": {
      "image/png": "[encoded data removed]",
      "text/plain": [
       "<Figure size 432x288 with 1 Axes>"
      ]
     },
     "metadata": {
      "needs_background": "light"
     },
     "output_type": "display_data"
    }
   ],
   "source": [
    "average_sent_adj = average_sent_adj.sort_values(by='Date')\n",
    "\n",
    "rolling_mean = average_sent_adj.Av_Score.rolling(window=20).mean()\n",
    "\n",
    "plt.plot(average_sent_adj.Date,average_sent_adj.Av_Score,label='Raw Score')\n",
    "plt.plot(average_sent_adj.Date,rolling_mean,label='Running Average',color='red')\n",
    "plt.gcf().autofmt_xdate()\n",
    "plt.show()"
   ]
  },
  {
   "cell_type": "code",
   "execution_count": 168,
   "metadata": {},
   "outputs": [
    {
     "data": {
      "text/html": [
       "<div>\n",
       "<style scoped>\n",
       "    .dataframe tbody tr th:only-of-type {\n",
       "        vertical-align: middle;\n",
       "    }\n",
       "\n",
       "    .dataframe tbody tr th {\n",
       "        vertical-align: top;\n",
       "    }\n",
       "\n",
       "    .dataframe thead th {\n",
       "        text-align: right;\n",
       "    }\n",
       "</style>\n",
       "<table border=\"1\" class=\"dataframe\">\n",
       "  <thead>\n",
       "    <tr style=\"text-align: right;\">\n",
       "      <th></th>\n",
       "      <th>Article</th>\n",
       "      <th>Av_Score</th>\n",
       "      <th>Date</th>\n",
       "      <th>Number_of_Comments</th>\n",
       "    </tr>\n",
       "  </thead>\n",
       "  <tbody>\n",
       "    <tr>\n",
       "      <th>4397</th>\n",
       "      <td>Juve, players reach agreement on salaries duri...</td>\n",
       "      <td>-0.362159</td>\n",
       "      <td>2020-03-29 00:00:00</td>\n",
       "      <td>17</td>\n",
       "    </tr>\n",
       "    <tr>\n",
       "      <th>5028</th>\n",
       "      <td>Boxing Day disaster in Serie A: Thoughts on It...</td>\n",
       "      <td>-0.301752</td>\n",
       "      <td>2019-01-13 00:00:00</td>\n",
       "      <td>54</td>\n",
       "    </tr>\n",
       "    <tr>\n",
       "      <th>4726</th>\n",
       "      <td>Martusciello preparing for Sarri return tomorrow</td>\n",
       "      <td>-0.280618</td>\n",
       "      <td>2019-08-30 00:00:00</td>\n",
       "      <td>11</td>\n",
       "    </tr>\n",
       "    <tr>\n",
       "      <th>2871</th>\n",
       "      <td>Croatia’s team doctor says Juventus were wrong...</td>\n",
       "      <td>-0.239178</td>\n",
       "      <td>2016-11-10 14:33:00</td>\n",
       "      <td>41</td>\n",
       "    </tr>\n",
       "    <tr>\n",
       "      <th>5209</th>\n",
       "      <td>Douglas Costa suspended four games for Sassuol...</td>\n",
       "      <td>-0.218302</td>\n",
       "      <td>2018-09-18 00:00:00</td>\n",
       "      <td>57</td>\n",
       "    </tr>\n",
       "    <tr>\n",
       "      <th>4529</th>\n",
       "      <td>Juventus draw banged-up but dangerous Lyon for...</td>\n",
       "      <td>-0.213755</td>\n",
       "      <td>2019-12-17 00:00:00</td>\n",
       "      <td>137</td>\n",
       "    </tr>\n",
       "    <tr>\n",
       "      <th>4879</th>\n",
       "      <td>Allegri: Racists should be identified and bann...</td>\n",
       "      <td>-0.191913</td>\n",
       "      <td>2019-04-03 00:00:00</td>\n",
       "      <td>75</td>\n",
       "    </tr>\n",
       "    <tr>\n",
       "      <th>3991</th>\n",
       "      <td>Report: Juventus ready to offer Alex Sandro a ...</td>\n",
       "      <td>-0.176254</td>\n",
       "      <td>2017-09-05 02:01:00</td>\n",
       "      <td>13</td>\n",
       "    </tr>\n",
       "    <tr>\n",
       "      <th>74</th>\n",
       "      <td>Live Coverage: Derby della Mole</td>\n",
       "      <td>-0.16767</td>\n",
       "      <td>2008-02-26 10:54:00</td>\n",
       "      <td>20</td>\n",
       "    </tr>\n",
       "    <tr>\n",
       "      <th>2128</th>\n",
       "      <td>Paul Pogba's chances of staying at Juventus? '...</td>\n",
       "      <td>-0.151507</td>\n",
       "      <td>2015-03-08 04:30:00</td>\n",
       "      <td>46</td>\n",
       "    </tr>\n",
       "  </tbody>\n",
       "</table>\n",
       "</div>"
      ],
      "text/plain": [
       "                                                Article  Av_Score  \\\n",
       "4397  Juve, players reach agreement on salaries duri... -0.362159   \n",
       "5028  Boxing Day disaster in Serie A: Thoughts on It... -0.301752   \n",
       "4726   Martusciello preparing for Sarri return tomorrow -0.280618   \n",
       "2871  Croatia’s team doctor says Juventus were wrong... -0.239178   \n",
       "5209  Douglas Costa suspended four games for Sassuol... -0.218302   \n",
       "4529  Juventus draw banged-up but dangerous Lyon for... -0.213755   \n",
       "4879  Allegri: Racists should be identified and bann... -0.191913   \n",
       "3991  Report: Juventus ready to offer Alex Sandro a ... -0.176254   \n",
       "74                      Live Coverage: Derby della Mole  -0.16767   \n",
       "2128  Paul Pogba's chances of staying at Juventus? '... -0.151507   \n",
       "\n",
       "                    Date Number_of_Comments  \n",
       "4397 2020-03-29 00:00:00                 17  \n",
       "5028 2019-01-13 00:00:00                 54  \n",
       "4726 2019-08-30 00:00:00                 11  \n",
       "2871 2016-11-10 14:33:00                 41  \n",
       "5209 2018-09-18 00:00:00                 57  \n",
       "4529 2019-12-17 00:00:00                137  \n",
       "4879 2019-04-03 00:00:00                 75  \n",
       "3991 2017-09-05 02:01:00                 13  \n",
       "74   2008-02-26 10:54:00                 20  \n",
       "2128 2015-03-08 04:30:00                 46  "
      ]
     },
     "execution_count": 168,
     "metadata": {},
     "output_type": "execute_result"
    }
   ],
   "source": [
    "average_sent_adj = average_sent_adj.sort_values(by='Av_Score')\n",
    "\n",
    "average_sent_adj.head(10)"
   ]
  },
  {
   "cell_type": "code",
   "execution_count": 171,
   "metadata": {},
   "outputs": [
    {
     "data": {
      "text/html": [
       "<div>\n",
       "<style scoped>\n",
       "    .dataframe tbody tr th:only-of-type {\n",
       "        vertical-align: middle;\n",
       "    }\n",
       "\n",
       "    .dataframe tbody tr th {\n",
       "        vertical-align: top;\n",
       "    }\n",
       "\n",
       "    .dataframe thead th {\n",
       "        text-align: right;\n",
       "    }\n",
       "</style>\n",
       "<table border=\"1\" class=\"dataframe\">\n",
       "  <thead>\n",
       "    <tr style=\"text-align: right;\">\n",
       "      <th></th>\n",
       "      <th>Article</th>\n",
       "      <th>Av_Score</th>\n",
       "      <th>Date</th>\n",
       "      <th>Number_of_Comments</th>\n",
       "    </tr>\n",
       "  </thead>\n",
       "  <tbody>\n",
       "    <tr>\n",
       "      <th>3393</th>\n",
       "      <td>Allegri: Juventus can take courage from second...</td>\n",
       "      <td>0.6844</td>\n",
       "      <td>2016-02-24 00:23:00</td>\n",
       "      <td>12</td>\n",
       "    </tr>\n",
       "    <tr>\n",
       "      <th>1464</th>\n",
       "      <td>Juventus vs. Genoa Preview: Round 9 — Home is ...</td>\n",
       "      <td>0.683442</td>\n",
       "      <td>2013-10-26 09:00:00</td>\n",
       "      <td>12</td>\n",
       "    </tr>\n",
       "    <tr>\n",
       "      <th>81</th>\n",
       "      <td>An addition to the Juventus Offside...</td>\n",
       "      <td>0.668733</td>\n",
       "      <td>2008-03-30 17:22:00</td>\n",
       "      <td>12</td>\n",
       "    </tr>\n",
       "    <tr>\n",
       "      <th>4368</th>\n",
       "      <td>Report: Rodrigo Bentancur, Merih Demiral deeme...</td>\n",
       "      <td>0.653743</td>\n",
       "      <td>2020-04-08 00:00:00</td>\n",
       "      <td>35</td>\n",
       "    </tr>\n",
       "    <tr>\n",
       "      <th>1559</th>\n",
       "      <td>Juventus Youth Update: Mid-season primavera, l...</td>\n",
       "      <td>0.651561</td>\n",
       "      <td>2013-12-29 13:22:00</td>\n",
       "      <td>23</td>\n",
       "    </tr>\n",
       "    <tr>\n",
       "      <th>646</th>\n",
       "      <td>PotD: More Of Your Artwork</td>\n",
       "      <td>0.649614</td>\n",
       "      <td>2010-10-28 14:38:00</td>\n",
       "      <td>21</td>\n",
       "    </tr>\n",
       "    <tr>\n",
       "      <th>553</th>\n",
       "      <td>One Static Striker Is Often Enough</td>\n",
       "      <td>0.643702</td>\n",
       "      <td>2010-07-19 13:47:00</td>\n",
       "      <td>41</td>\n",
       "    </tr>\n",
       "    <tr>\n",
       "      <th>1284</th>\n",
       "      <td>Chronicle of a Scudetto Foretold: Relive the r...</td>\n",
       "      <td>0.642538</td>\n",
       "      <td>2013-05-21 07:00:00</td>\n",
       "      <td>26</td>\n",
       "    </tr>\n",
       "    <tr>\n",
       "      <th>4487</th>\n",
       "      <td>Sarri: After Juventus I could retire</td>\n",
       "      <td>0.623682</td>\n",
       "      <td>2020-01-25 00:00:00</td>\n",
       "      <td>17</td>\n",
       "    </tr>\n",
       "    <tr>\n",
       "      <th>4844</th>\n",
       "      <td>Rival Q&amp;A: Talking Juventus-Roma with Chiesa d...</td>\n",
       "      <td>0.607108</td>\n",
       "      <td>2019-05-11 00:00:00</td>\n",
       "      <td>12</td>\n",
       "    </tr>\n",
       "  </tbody>\n",
       "</table>\n",
       "</div>"
      ],
      "text/plain": [
       "                                                Article  Av_Score  \\\n",
       "3393  Allegri: Juventus can take courage from second...    0.6844   \n",
       "1464  Juventus vs. Genoa Preview: Round 9 — Home is ...  0.683442   \n",
       "81               An addition to the Juventus Offside...  0.668733   \n",
       "4368  Report: Rodrigo Bentancur, Merih Demiral deeme...  0.653743   \n",
       "1559  Juventus Youth Update: Mid-season primavera, l...  0.651561   \n",
       "646                          PotD: More Of Your Artwork  0.649614   \n",
       "553                  One Static Striker Is Often Enough  0.643702   \n",
       "1284  Chronicle of a Scudetto Foretold: Relive the r...  0.642538   \n",
       "4487               Sarri: After Juventus I could retire  0.623682   \n",
       "4844  Rival Q&A: Talking Juventus-Roma with Chiesa d...  0.607108   \n",
       "\n",
       "                    Date Number_of_Comments  \n",
       "3393 2016-02-24 00:23:00                 12  \n",
       "1464 2013-10-26 09:00:00                 12  \n",
       "81   2008-03-30 17:22:00                 12  \n",
       "4368 2020-04-08 00:00:00                 35  \n",
       "1559 2013-12-29 13:22:00                 23  \n",
       "646  2010-10-28 14:38:00                 21  \n",
       "553  2010-07-19 13:47:00                 41  \n",
       "1284 2013-05-21 07:00:00                 26  \n",
       "4487 2020-01-25 00:00:00                 17  \n",
       "4844 2019-05-11 00:00:00                 12  "
      ]
     },
     "execution_count": 171,
     "metadata": {},
     "output_type": "execute_result"
    }
   ],
   "source": [
    "average_sent_adj = average_sent_adj.sort_values(by='Av_Score',ascending=False)\n",
    "\n",
    "average_sent_adj.head(10)"
   ]
  },
  {
   "cell_type": "code",
   "execution_count": null,
   "metadata": {},
   "outputs": [],
   "source": []
  }
 ],
 "metadata": {
  "kernelspec": {
   "display_name": "Python 3",
   "language": "python",
   "name": "python3"
  },
  "language_info": {
   "codemirror_mode": {
    "name": "ipython",
    "version": 3
   },
   "file_extension": ".py",
   "mimetype": "text/x-python",
   "name": "python",
   "nbconvert_exporter": "python",
   "pygments_lexer": "ipython3",
   "version": "3.6.8"
  }
 },
 "nbformat": 4,
 "nbformat_minor": 2
}
