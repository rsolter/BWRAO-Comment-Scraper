{
 "cells": [
  {
   "cell_type": "code",
   "execution_count": 16,
   "metadata": {},
   "outputs": [
    {
     "name": "stdout",
     "output_type": "stream",
     "text": [
      "[nltk_data] Downloading package vader_lexicon to\n",
      "[nltk_data]     C:\\Users\\Alek\\AppData\\Roaming\\nltk_data...\n",
      "[nltk_data]   Package vader_lexicon is already up-to-date!\n",
      "[nltk_data] Downloading package punkt to\n",
      "[nltk_data]     C:\\Users\\Alek\\AppData\\Roaming\\nltk_data...\n",
      "[nltk_data]   Package punkt is already up-to-date!\n"
     ]
    },
    {
     "name": "stderr",
     "output_type": "stream",
     "text": [
      "C:\\ProgramData\\Anaconda3\\lib\\site-packages\\nltk\\twitter\\__init__.py:20: UserWarning: The twython library has not been installed. Some functionality from the twitter package will not be available.\n",
      "  warnings.warn(\"The twython library has not been installed. \"\n"
     ]
    }
   ],
   "source": [
    "#Loading Packages\n",
    "\n",
    "import pandas as pd\n",
    "import nltk\n",
    "nltk.download('vader_lexicon')\n",
    "nltk.download('punkt')\n",
    "from nltk.sentiment.vader import SentimentIntensityAnalyzer"
   ]
  },
  {
   "cell_type": "code",
   "execution_count": 11,
   "metadata": {},
   "outputs": [],
   "source": [
    "#Importing Comments\n",
    "df1 = pd.read_csv('Data/comments_1_1537.csv')\n",
    "df2 = pd.read_csv('Data/Comments_3000_3904.csv')\n",
    "df3 = pd.read_csv('Data/Comments_3905_5022.csv')\n",
    "df4 = pd.read_csv('Data/Comments_5023_6035.csv')\n",
    "\n",
    "#Making sure the column names are the same\n",
    "df1.columns = ['Article_Title','Article_Author','Article_Publish_Date','Comment_Title','Comment_Body',\n",
    "              'Comment_Poster','Comment_Date','Comment_Time','Comment_Recs']\n",
    "df2.columns = df1.columns\n",
    "df3.columns = df1.columns\n",
    "df4.columns = df1.columns\n",
    "\n",
    "#Joining\n",
    "comments = pd.concat([df1,df2,df3,df4])"
   ]
  },
  {
   "cell_type": "code",
   "execution_count": 12,
   "metadata": {},
   "outputs": [],
   "source": [
    "#List of unique Article Titles\n",
    "names = comments.Article_Title.unique()"
   ]
  },
  {
   "cell_type": "code",
   "execution_count": 17,
   "metadata": {},
   "outputs": [],
   "source": [
    "#Initialize the Vader Sentiment Tool\n",
    "sid = SentimentIntensityAnalyzer()"
   ]
  },
  {
   "cell_type": "code",
   "execution_count": 22,
   "metadata": {},
   "outputs": [],
   "source": [
    "#String pad to tripple ' for vader\n",
    "\n",
    "test = comments.iloc[0,4]\n",
    "test = test.rjust(2,\"\\'\")\n",
    "test = test.rjust(2,\"\\'\")"
   ]
  },
  {
   "cell_type": "code",
   "execution_count": 26,
   "metadata": {},
   "outputs": [
    {
     "data": {
      "text/plain": [
       "'excellent, I thought all their games would be like this, a walk in the park. but I guess its a harder league then I thought it was.\\r\\nthat second goal from Balzaretti was meant to be a cross (you dont need me telling you that)\\r\\nGREAT DEL PIERO!!'"
      ]
     },
     "execution_count": 26,
     "metadata": {},
     "output_type": "execute_result"
    }
   ],
   "source": [
    "test"
   ]
  },
  {
   "cell_type": "code",
   "execution_count": null,
   "metadata": {},
   "outputs": [],
   "source": []
  }
 ],
 "metadata": {
  "kernelspec": {
   "display_name": "Python 3",
   "language": "python",
   "name": "python3"
  },
  "language_info": {
   "codemirror_mode": {
    "name": "ipython",
    "version": 3
   },
   "file_extension": ".py",
   "mimetype": "text/x-python",
   "name": "python",
   "nbconvert_exporter": "python",
   "pygments_lexer": "ipython3",
   "version": "3.6.8"
  }
 },
 "nbformat": 4,
 "nbformat_minor": 2
}
