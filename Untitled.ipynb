{
 "cells": [
  {
   "cell_type": "code",
   "execution_count": 1,
   "metadata": {},
   "outputs": [
    {
     "name": "stderr",
     "output_type": "stream",
     "text": [
      "── \u001b[1mAttaching packages\u001b[22m ─────────────────────────────────────── tidyverse 1.3.0 ──\n",
      "\n",
      "\u001b[32m✔\u001b[39m \u001b[34mggplot2\u001b[39m 3.3.0     \u001b[32m✔\u001b[39m \u001b[34mpurrr  \u001b[39m 0.3.3\n",
      "\u001b[32m✔\u001b[39m \u001b[34mtibble \u001b[39m 3.0.0     \u001b[32m✔\u001b[39m \u001b[34mdplyr  \u001b[39m 0.8.5\n",
      "\u001b[32m✔\u001b[39m \u001b[34mtidyr  \u001b[39m 1.0.2     \u001b[32m✔\u001b[39m \u001b[34mstringr\u001b[39m 1.4.0\n",
      "\u001b[32m✔\u001b[39m \u001b[34mreadr  \u001b[39m 1.3.1     \u001b[32m✔\u001b[39m \u001b[34mforcats\u001b[39m 0.5.0\n",
      "\n",
      "── \u001b[1mConflicts\u001b[22m ────────────────────────────────────────── tidyverse_conflicts() ──\n",
      "\u001b[31m✖\u001b[39m \u001b[34mdplyr\u001b[39m::\u001b[32mfilter()\u001b[39m masks \u001b[34mstats\u001b[39m::filter()\n",
      "\u001b[31m✖\u001b[39m \u001b[34mdplyr\u001b[39m::\u001b[32mlag()\u001b[39m    masks \u001b[34mstats\u001b[39m::lag()\n",
      "\n"
     ]
    }
   ],
   "source": [
    "library(tidyverse)"
   ]
  },
  {
   "cell_type": "code",
   "execution_count": 11,
   "metadata": {},
   "outputs": [],
   "source": [
    "data(airmiles)"
   ]
  },
  {
   "cell_type": "code",
   "execution_count": 12,
   "metadata": {},
   "outputs": [
    {
     "data": {
      "text/html": [
       "A Time Series:<br><style>\n",
       ".list-inline {list-style: none; margin:0; padding: 0}\n",
       ".list-inline>li {display: inline-block}\n",
       ".list-inline>li:not(:last-child)::after {content: \"\\00b7\"; padding: 0 .5ex}\n",
       "</style>\n",
       "<ol class=list-inline><li>412</li><li>480</li><li>683</li><li>1052</li><li>1385</li><li>1418</li><li>1634</li><li>2178</li><li>3362</li><li>5948</li><li>6109</li><li>5981</li><li>6753</li><li>8003</li><li>10566</li><li>12528</li><li>14760</li><li>16769</li><li>19819</li><li>22362</li><li>25340</li><li>25343</li><li>29269</li><li>30514</li></ol>\n"
      ],
      "text/latex": [
       "A Time Series:\\\\\\begin{enumerate*}\n",
       "\\item 412\n",
       "\\item 480\n",
       "\\item 683\n",
       "\\item 1052\n",
       "\\item 1385\n",
       "\\item 1418\n",
       "\\item 1634\n",
       "\\item 2178\n",
       "\\item 3362\n",
       "\\item 5948\n",
       "\\item 6109\n",
       "\\item 5981\n",
       "\\item 6753\n",
       "\\item 8003\n",
       "\\item 10566\n",
       "\\item 12528\n",
       "\\item 14760\n",
       "\\item 16769\n",
       "\\item 19819\n",
       "\\item 22362\n",
       "\\item 25340\n",
       "\\item 25343\n",
       "\\item 29269\n",
       "\\item 30514\n",
       "\\end{enumerate*}\n"
      ],
      "text/markdown": [
       "A Time Series:  \n",
       "1. 412\n",
       "2. 480\n",
       "3. 683\n",
       "4. 1052\n",
       "5. 1385\n",
       "6. 1418\n",
       "7. 1634\n",
       "8. 2178\n",
       "9. 3362\n",
       "10. 5948\n",
       "11. 6109\n",
       "12. 5981\n",
       "13. 6753\n",
       "14. 8003\n",
       "15. 10566\n",
       "16. 12528\n",
       "17. 14760\n",
       "18. 16769\n",
       "19. 19819\n",
       "20. 22362\n",
       "21. 25340\n",
       "22. 25343\n",
       "23. 29269\n",
       "24. 30514\n",
       "\n",
       "\n"
      ],
      "text/plain": [
       "A Time Series:\n",
       " [1]   412   480   683  1052  1385  1418  1634  2178  3362  5948  6109  5981\n",
       "[13]  6753  8003 10566 12528 14760 16769 19819 22362 25340 25343 29269 30514"
      ]
     },
     "metadata": {},
     "output_type": "display_data"
    }
   ],
   "source": [
    "airmiles"
   ]
  },
  {
   "cell_type": "code",
   "execution_count": 10,
   "metadata": {},
   "outputs": [
    {
     "ename": "ERROR",
     "evalue": "Error in eval(expr, envir, enclos): object 'Seatbelts2' not found\n",
     "output_type": "error",
     "traceback": [
      "Error in eval(expr, envir, enclos): object 'Seatbelts2' not found\nTraceback:\n"
     ]
    }
   ],
   "source": [
    "Seatbelts2"
   ]
  },
  {
   "cell_type": "code",
   "execution_count": 9,
   "metadata": {},
   "outputs": [
    {
     "ename": "ERROR",
     "evalue": "Error in ggplot(Seatbelts2, aes(x = drivers, y = front)): object 'Seatbelts2' not found\n",
     "output_type": "error",
     "traceback": [
      "Error in ggplot(Seatbelts2, aes(x = drivers, y = front)): object 'Seatbelts2' not found\nTraceback:\n",
      "1. ggplot(Seatbelts2, aes(x = drivers, y = front))"
     ]
    }
   ],
   "source": [
    "ggplot(Seatbelts2, aes(x=drivers,y=front)) + geom_point()"
   ]
  },
  {
   "cell_type": "code",
   "execution_count": null,
   "metadata": {},
   "outputs": [],
   "source": []
  }
 ],
 "metadata": {
  "kernelspec": {
   "display_name": "R",
   "language": "R",
   "name": "ir"
  },
  "language_info": {
   "codemirror_mode": "r",
   "file_extension": ".r",
   "mimetype": "text/x-r-source",
   "name": "R",
   "pygments_lexer": "r",
   "version": "3.6.3"
  }
 },
 "nbformat": 4,
 "nbformat_minor": 4
}
