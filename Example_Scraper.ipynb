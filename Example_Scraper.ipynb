{
 "cells": [
  {
   "cell_type": "markdown",
   "metadata": {},
   "source": [
    "Example of looping through all comments, and storing info in a dataframe"
   ]
  },
  {
   "cell_type": "code",
   "execution_count": 1,
   "metadata": {},
   "outputs": [],
   "source": [
    "#Grab packages\n",
    "\n",
    "import pandas as pd\n",
    "from selenium import webdriver\n",
    "from selenium.webdriver.common.by import By\n",
    "from selenium.webdriver.support.ui import WebDriverWait\n",
    "from selenium.webdriver.support import expected_conditions as EC"
   ]
  },
  {
   "cell_type": "code",
   "execution_count": 2,
   "metadata": {},
   "outputs": [
    {
     "name": "stderr",
     "output_type": "stream",
     "text": [
      "/home/ravisolter/anaconda3/lib/python3.7/site-packages/ipykernel_launcher.py:11: DeprecationWarning: use options instead of chrome_options\n",
      "  # This is added back by InteractiveShellApp.init_path()\n"
     ]
    }
   ],
   "source": [
    "#Connect to webpage\n",
    "\n",
    "options = webdriver.ChromeOptions()\n",
    "#options.add_argument('--headless')\n",
    "\n",
    "\n",
    "options.binary_location = \"/usr/bin/google-chrome\"\n",
    "chrome_driver_binary = \"/usr/local/bin/chromedriver\"\n",
    "#options.binary_location = \"C:/Program Files (x86)/Google/Chrome/Application/chrome.exe\"\n",
    "#chrome_driver_binary = \"C:/Users/Alek/chromedriver\"\n",
    "driver = webdriver.Chrome(chrome_driver_binary, chrome_options=options)\n",
    "\n"
   ]
  },
  {
   "cell_type": "code",
   "execution_count": 3,
   "metadata": {},
   "outputs": [],
   "source": [
    "# Logging in\n",
    "driver.get(\"https://auth.voxmedia.com/login?return_to=https://www.blackwhitereadallover.com/\")\n",
    "\n",
    "element = WebDriverWait(driver, 100).until(\n",
    "        EC.presence_of_element_located((By.CLASS_NAME, \"p-text-input\"))\n",
    "    )\n",
    "\n",
    "username = driver.find_element_by_xpath('//*[@id=\"login[username]\"]')\n",
    "username.clear()\n",
    "username.send_keys(\"rsolter\")\n",
    "\n",
    "\n",
    "password = driver.find_element_by_xpath('//*[@id=\"login[password]\"]')\n",
    "password.clear()\n",
    "password.send_keys(\"pass123!\")\n",
    "\n",
    "\n",
    "button = driver.find_element_by_xpath('//*[@id=\"auth\"]/div/form/fieldset[3]/input')\n",
    "button.click()"
   ]
  },
  {
   "cell_type": "code",
   "execution_count": 4,
   "metadata": {},
   "outputs": [],
   "source": [
    "# Directing to one example article\n",
    "element = WebDriverWait(driver, 100).until(\n",
    "        EC.presence_of_element_located((By.CLASS_NAME, \"c-global-header__logo-large\"))\n",
    "    )\n",
    "\n",
    "\n"
   ]
  },
  {
   "cell_type": "code",
   "execution_count": 5,
   "metadata": {},
   "outputs": [],
   "source": [
    "\n",
    "### Insert loop here to visit relevant URLs\n",
    "\n",
    "driver.get(\"https://www.blackwhitereadallover.com/2020/4/3/21206623/miralem-pjanic-marco-verratti-juventus-paris-saint-germain-2020-serie-a-summer-transfer-rumors#comments\")\n",
    "\n",
    "## Grab article title, author\n",
    "\n",
    "element = WebDriverWait(driver, 100).until(\n",
    "        EC.presence_of_element_located((By.CLASS_NAME, \"c-comments__list\"))\n",
    "    )\n",
    "\n",
    "#Find number of comments\n",
    "\n",
    "n_comments = driver.find_element_by_xpath('//*[@id=\"comments\"]/div[1]/span/span')\n",
    "n_comments = int(n_comments.text)\n"
   ]
  },
  {
   "cell_type": "code",
   "execution_count": 49,
   "metadata": {
    "collapsed": true
   },
   "outputs": [
    {
     "name": "stdout",
     "output_type": "stream",
     "text": [
      "1 #finoallafine\n",
      "2 #finoallafine\n",
      "3 #finoallafine\n",
      "4 #finoallafine\n",
      "5 #finoallafine\n",
      "6 #finoallafine\n",
      "7 #finoallafine\n",
      "8 #finoallafine\n",
      "9 #finoallafine\n",
      "10 #finoallafine\n",
      "11 #finoallafine\n",
      "12 #finoallafine\n",
      "13 #finoallafine\n",
      "14 #finoallafine\n",
      "15 #finoallafine\n",
      "16 #finoallafine\n",
      "17 #finoallafine\n",
      "18 #finoallafine\n",
      "19 #finoallafine\n",
      "20 #finoallafine\n",
      "21 #finoallafine\n",
      "22 #finoallafine\n",
      "23 #finoallafine\n",
      "24 #finoallafine\n",
      "25 #finoallafine\n",
      "26 #finoallafine\n",
      "27 #finoallafine\n",
      "28 #finoallafine\n",
      "29 #finoallafine\n",
      "30 #finoallafine\n",
      "31 #finoallafine\n",
      "32 #finoallafine\n",
      "33 #finoallafine\n",
      "34 #finoallafine\n",
      "35 #finoallafine\n",
      "36 #finoallafine\n",
      "37 #finoallafine\n",
      "38 #finoallafine\n",
      "39 #finoallafine\n",
      "40 #finoallafine\n",
      "41 #finoallafine\n",
      "42 #finoallafine\n"
     ]
    }
   ],
   "source": [
    "#Loop through all comments, taking title, content, and meta data (recs, author, etc)\n",
    "\n",
    "comments_df = pd.DataFrame()\n",
    "\n",
    "for i in range(1,n_comments+1):\n",
    "    \n",
    "    xpath = '//*[@id=\"comments\"]/div[2]/div['+str(i)+']'\n",
    "     \n",
    "    title = driver.find_element_by_xpath(xpath + '/div[1]')\n",
    "    body = driver.find_element_by_xpath(xpath + '/div[2]')\n",
    "    meta = driver.find_element_by_xpath(xpath + '/div[3]')\n",
    "    \n",
    "    \n",
    "    # Grabbing author, comment recommendations\n",
    "    #author_xpath = '/html/body/div[2]/main/article/div[5]/div[1]/section/div[2]/div['+str(i)+']/div[3]/span[1]/a[1]'\n",
    "    #author = driver.find_element_by_xpath(author_xpath)\n",
    "    \n",
    "    # Recommendations number specifically doesn't work when there are none\n",
    "    #recs_xpath = '/html/body/div[2]/main/article/div[5]/div[1]/section/div[2]/div['+str(i)+']/div[3]/span[2]/button[2]/span[2]'\n",
    "        \n",
    "    # Also grabbing the entire comments_action errors out on 10th iteration which has a div[4] instead of div[3]\n",
    "    #recs_xpath = '/html/body/div[2]/main/article/div[5]/div[1]/section/div[2]/div['+str(i)+']/div[3]/span[2]'\n",
    "    #recs = driver.find_element_by_xpath(recs_xpath)\n",
    "\n",
    "    comment = pd.DataFrame([title.text,body.text,meta.text])\n",
    "    comments_df = pd.concat([comments_df,comment.T])\n",
    "    \n",
    "    ;\n",
    "   "
   ]
  },
  {
   "cell_type": "code",
   "execution_count": 54,
   "metadata": {},
   "outputs": [
    {
     "name": "stdout",
     "output_type": "stream",
     "text": [
      "...\n",
      "(8)\n",
      "...\n",
      "(4)\n",
      "...\n",
      "...\n",
      "...\n",
      "...\n",
      "...\n",
      "...\n",
      "...\n",
      "...\n",
      "...\n",
      "...\n",
      "...\n",
      "...\n",
      "...\n",
      "...\n",
      "...\n",
      "...\n",
      "...\n",
      "...\n",
      "...\n",
      "...\n",
      "...\n",
      "...\n",
      "...\n",
      "...\n",
      "...\n",
      "...\n",
      "...\n",
      "...\n",
      "...\n",
      "...\n",
      "...\n",
      "(1)\n",
      "...\n",
      "...\n",
      "...\n",
      "...\n",
      "...\n",
      "...\n"
     ]
    }
   ],
   "source": [
    "## The loop below works for handling NAs, but it's returning recs from only the first level of comments\n",
    "\n",
    "from selenium.common.exceptions import NoSuchElementException\n",
    "\n",
    "# Searching on recommend element specifically (handing NAs)\n",
    "\n",
    "recs_df = pd.DataFrame()\n",
    "\n",
    "for i in range(1,n_comments+1):\n",
    "    \n",
    "    try:\n",
    "        recs_xpath = '/html/body/div[2]/main/article/div[5]/div[1]/section/div[2]/div['+str(i)+']/div[3]/span[2]/button[2]/span[2]'\n",
    "        recs = driver.find_element_by_xpath(recs_xpath)\n",
    "        if recs.is_displayed():\n",
    "            recN = recs.text\n",
    "            print(recN)\n",
    "    except NoSuchElementException:        \n",
    "        print(\"...\")    \n",
    "\n",
    "    #print(i,recs.text)\n",
    "    ;\n",
    "    \n",
    "    \n",
    "    "
   ]
  },
  {
   "cell_type": "code",
   "execution_count": 36,
   "metadata": {},
   "outputs": [
    {
     "name": "stdout",
     "output_type": "stream",
     "text": [
      "[]\n"
     ]
    }
   ],
   "source": [
    "## Searching for comments by name returns empty lists\n",
    "\n",
    "#recs_list = driver.find_elements_by_name('c-comments__actions')\n",
    "recs_list = driver.find_elements_by_name('icon-rec c-comments__rec-link ') \n",
    "#recs_list = driver.find_elements_by_name('c-comments__post-actions u-clearfix')\n",
    "\n",
    "type(recs_list)\n",
    "print(recs_list)\n",
    "\n",
    "\n"
   ]
  },
  {
   "cell_type": "code",
   "execution_count": 53,
   "metadata": {},
   "outputs": [],
   "source": [
    "comments_df.columns = ['Title','Body','Meta']\n",
    "\n",
    "comments_df.head()\n",
    "\n",
    "\n",
    "comments_df.to_csv('comments.csv', index=False)\n",
    "\n",
    "\n"
   ]
  },
  {
   "cell_type": "code",
   "execution_count": 40,
   "metadata": {},
   "outputs": [],
   "source": [
    "driver.quit()"
   ]
  },
  {
   "cell_type": "code",
   "execution_count": null,
   "metadata": {},
   "outputs": [],
   "source": []
  }
 ],
 "metadata": {
  "kernelspec": {
   "display_name": "Python 3",
   "language": "python",
   "name": "python3"
  },
  "language_info": {
   "codemirror_mode": {
    "name": "ipython",
    "version": 3
   },
   "file_extension": ".py",
   "mimetype": "text/x-python",
   "name": "python",
   "nbconvert_exporter": "python",
   "pygments_lexer": "ipython3",
   "version": "3.7.6"
  }
 },
 "nbformat": 4,
 "nbformat_minor": 2
}
