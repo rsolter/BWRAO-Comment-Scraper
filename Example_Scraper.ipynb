{
 "cells": [
  {
   "cell_type": "markdown",
   "metadata": {},
   "source": [
    "Expample of looping through all comments, and storing info in a dataframe"
   ]
  },
  {
   "cell_type": "code",
   "execution_count": 3,
   "metadata": {},
   "outputs": [],
   "source": [
    "#Grab packages\n",
    "\n",
    "import pandas as pd\n",
    "from selenium import webdriver\n",
    "from selenium.webdriver.common.by import By\n",
    "from selenium.webdriver.support.ui import WebDriverWait\n",
    "from selenium.webdriver.support import expected_conditions as EC"
   ]
  },
  {
   "cell_type": "code",
   "execution_count": 4,
   "metadata": {},
   "outputs": [
    {
     "name": "stderr",
     "output_type": "stream",
     "text": [
      "C:\\ProgramData\\Anaconda3\\lib\\site-packages\\ipykernel_launcher.py:8: DeprecationWarning: use options instead of chrome_options\n",
      "  \n"
     ]
    }
   ],
   "source": [
    "#Connect to webpage\n",
    "\n",
    "options = webdriver.ChromeOptions()\n",
    "#options.add_argument('--headless')\n",
    "\n",
    "options.binary_location = \"C:/Program Files (x86)/Google/Chrome/Application/chrome.exe\"\n",
    "chrome_driver_binary = \"C:/Users/Alek/chromedriver\"\n",
    "driver = webdriver.Chrome(chrome_driver_binary, chrome_options=options)\n",
    "\n",
    "driver.get(\"https://www.blackwhitereadallover.com/2020/4/3/21206623/miralem-pjanic-marco-verratti-juventus-paris-saint-germain-2020-serie-a-summer-transfer-rumors#comments\")\n",
    "\n",
    "element = WebDriverWait(driver, 100).until(\n",
    "        EC.presence_of_element_located((By.CLASS_NAME, \"c-comments__list\"))\n",
    "    )"
   ]
  },
  {
   "cell_type": "code",
   "execution_count": 5,
   "metadata": {},
   "outputs": [],
   "source": [
    "#Find number of comments\n",
    "\n",
    "n_comments = driver.find_element_by_xpath('//*[@id=\"comments\"]/div[1]/span/span')\n",
    "n_comments = int(n_comments.text)"
   ]
  },
  {
   "cell_type": "code",
   "execution_count": 6,
   "metadata": {},
   "outputs": [],
   "source": [
    "#Loop through all comments, taking title, content, and meta data\n",
    "\n",
    "comments_df = pd.DataFrame()\n",
    "\n",
    "for i in range(1,n_comments+1):\n",
    "    \n",
    "    xpath = '//*[@id=\"comments\"]/div[2]/div['+str(i)+']'\n",
    "    title = driver.find_element_by_xpath(xpath + '/div[1]')\n",
    "    body = driver.find_element_by_xpath(xpath + '/div[2]')\n",
    "    meta = driver.find_element_by_xpath(xpath + '/div[3]')\n",
    "    \n",
    "    comment = pd.DataFrame([title.text,body.text,meta.text])\n",
    "    comments_df = pd.concat([comments_df,comment.T]);"
   ]
  },
  {
   "cell_type": "code",
   "execution_count": 8,
   "metadata": {},
   "outputs": [
    {
     "data": {
      "text/html": [
       "<div>\n",
       "<style scoped>\n",
       "    .dataframe tbody tr th:only-of-type {\n",
       "        vertical-align: middle;\n",
       "    }\n",
       "\n",
       "    .dataframe tbody tr th {\n",
       "        vertical-align: top;\n",
       "    }\n",
       "\n",
       "    .dataframe thead th {\n",
       "        text-align: right;\n",
       "    }\n",
       "</style>\n",
       "<table border=\"1\" class=\"dataframe\">\n",
       "  <thead>\n",
       "    <tr style=\"text-align: right;\">\n",
       "      <th></th>\n",
       "      <th>Title</th>\n",
       "      <th>Body</th>\n",
       "      <th>Meta</th>\n",
       "    </tr>\n",
       "  </thead>\n",
       "  <tbody>\n",
       "    <tr>\n",
       "      <th>0</th>\n",
       "      <td></td>\n",
       "      <td>interesting video about how some stats should/...</td>\n",
       "      <td>Posted  by resko  on Apr 3, 2020 | 3:37 PM</td>\n",
       "    </tr>\n",
       "    <tr>\n",
       "      <th>0</th>\n",
       "      <td></td>\n",
       "      <td>Well that was a tough decision for PSG!</td>\n",
       "      <td>Posted  by Paolo C  on Apr 3, 2020 | 3:42 PM</td>\n",
       "    </tr>\n",
       "    <tr>\n",
       "      <th>0</th>\n",
       "      <td></td>\n",
       "      <td>hmmm…………maybe if we added Khedira……….or Bernar...</td>\n",
       "      <td>Posted  by Ricardo 1  on Apr 3, 2020 | 7:44 PM</td>\n",
       "    </tr>\n",
       "    <tr>\n",
       "      <th>0</th>\n",
       "      <td></td>\n",
       "      <td>Interest chart here. Various strikers over/und...</td>\n",
       "      <td>Posted  by Paolo C  on Apr 3, 2020 | 6:59 PM</td>\n",
       "    </tr>\n",
       "    <tr>\n",
       "      <th>0</th>\n",
       "      <td></td>\n",
       "      <td>Dybala is an amazing finisher\\nso much this</td>\n",
       "      <td>Posted  by #finoallafine  on Apr 6, 2020 | 8:5...</td>\n",
       "    </tr>\n",
       "  </tbody>\n",
       "</table>\n",
       "</div>"
      ],
      "text/plain": [
       "  Title                                               Body  \\\n",
       "0        interesting video about how some stats should/...   \n",
       "0                  Well that was a tough decision for PSG!   \n",
       "0        hmmm…………maybe if we added Khedira……….or Bernar...   \n",
       "0        Interest chart here. Various strikers over/und...   \n",
       "0              Dybala is an amazing finisher\\nso much this   \n",
       "\n",
       "                                                Meta  \n",
       "0         Posted  by resko  on Apr 3, 2020 | 3:37 PM  \n",
       "0       Posted  by Paolo C  on Apr 3, 2020 | 3:42 PM  \n",
       "0     Posted  by Ricardo 1  on Apr 3, 2020 | 7:44 PM  \n",
       "0       Posted  by Paolo C  on Apr 3, 2020 | 6:59 PM  \n",
       "0  Posted  by #finoallafine  on Apr 6, 2020 | 8:5...  "
      ]
     },
     "execution_count": 8,
     "metadata": {},
     "output_type": "execute_result"
    }
   ],
   "source": [
    "comments_df.columns = ['Title','Body','Meta']\n",
    "\n",
    "comments_df.head()"
   ]
  },
  {
   "cell_type": "code",
   "execution_count": 9,
   "metadata": {},
   "outputs": [],
   "source": [
    "driver.quit()"
   ]
  },
  {
   "cell_type": "code",
   "execution_count": null,
   "metadata": {},
   "outputs": [],
   "source": []
  }
 ],
 "metadata": {
  "kernelspec": {
   "display_name": "Python 3",
   "language": "python",
   "name": "python3"
  },
  "language_info": {
   "codemirror_mode": {
    "name": "ipython",
    "version": 3
   },
   "file_extension": ".py",
   "mimetype": "text/x-python",
   "name": "python",
   "nbconvert_exporter": "python",
   "pygments_lexer": "ipython3",
   "version": "3.6.8"
  }
 },
 "nbformat": 4,
 "nbformat_minor": 2
}
