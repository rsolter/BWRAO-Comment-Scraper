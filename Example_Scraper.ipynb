{
 "cells": [
  {
   "cell_type": "markdown",
   "metadata": {},
   "source": [
    "Example of looping through all comments, and storing info in a dataframe"
   ]
  },
  {
   "cell_type": "code",
   "execution_count": 1,
   "metadata": {},
   "outputs": [],
   "source": [
    "#Grab packages\n",
    "\n",
    "import pandas as pd\n",
    "from selenium import webdriver\n",
    "from selenium.webdriver.common.by import By\n",
    "from selenium.webdriver.support.ui import WebDriverWait\n",
    "from selenium.webdriver.support import expected_conditions as EC"
   ]
  },
  {
   "cell_type": "code",
   "execution_count": 2,
   "metadata": {},
   "outputs": [
    {
     "name": "stderr",
     "output_type": "stream",
     "text": [
      "/home/ravisolter/anaconda3/lib/python3.7/site-packages/ipykernel_launcher.py:11: DeprecationWarning: use options instead of chrome_options\n",
      "  # This is added back by InteractiveShellApp.init_path()\n"
     ]
    }
   ],
   "source": [
    "#Connect to webpage\n",
    "\n",
    "options = webdriver.ChromeOptions()\n",
    "#options.add_argument('--headless')\n",
    "\n",
    "\n",
    "options.binary_location = \"/usr/bin/google-chrome\"\n",
    "chrome_driver_binary = \"/usr/local/bin/chromedriver\"\n",
    "#options.binary_location = \"C:/Program Files (x86)/Google/Chrome/Application/chrome.exe\"\n",
    "#chrome_driver_binary = \"C:/Users/Alek/chromedriver\"\n",
    "driver = webdriver.Chrome(chrome_driver_binary, chrome_options=options)\n",
    "\n"
   ]
  },
  {
   "cell_type": "code",
   "execution_count": 3,
   "metadata": {},
   "outputs": [],
   "source": [
    "# Logging in\n",
    "driver.get(\"https://auth.voxmedia.com/login?return_to=https://www.blackwhitereadallover.com/\")\n",
    "\n",
    "element = WebDriverWait(driver, 100).until(\n",
    "        EC.presence_of_element_located((By.CLASS_NAME, \"p-text-input\"))\n",
    "    )\n",
    "\n",
    "username = driver.find_element_by_xpath('//*[@id=\"login[username]\"]')\n",
    "username.clear()\n",
    "username.send_keys(\"rsolter\")\n",
    "\n",
    "\n",
    "password = driver.find_element_by_xpath('//*[@id=\"login[password]\"]')\n",
    "password.clear()\n",
    "password.send_keys(\"pass123!\")\n",
    "\n",
    "\n",
    "button = driver.find_element_by_xpath('//*[@id=\"auth\"]/div/form/fieldset[3]/input')\n",
    "button.click()"
   ]
  },
  {
   "cell_type": "code",
   "execution_count": 4,
   "metadata": {},
   "outputs": [],
   "source": [
    "# Directing to one example article\n",
    "element = WebDriverWait(driver, 100).until(\n",
    "        EC.presence_of_element_located((By.CLASS_NAME, \"c-global-header__logo-large\"))\n",
    "    )\n",
    "\n",
    "\n"
   ]
  },
  {
   "cell_type": "code",
   "execution_count": 5,
   "metadata": {},
   "outputs": [
    {
     "name": "stdout",
     "output_type": "stream",
     "text": [
      "Report: PSG turns down Miralem Pjanic-Marco Verratti swap deal\n",
      "Danny Penza\n"
     ]
    }
   ],
   "source": [
    "\n",
    "### Insert loop here to visit relevant URLs\n",
    "\n",
    "driver.get(\"https://www.blackwhitereadallover.com/2020/4/3/21206623/miralem-pjanic-marco-verratti-juventus-paris-saint-germain-2020-serie-a-summer-transfer-rumors#comments\")\n",
    "\n",
    "## Grab article title, author\n",
    "\n",
    "blog_title = driver.find_element_by_xpath('//*[@id=\"content\"]/article/div[1]/div[1]/div[2]/h1')\n",
    "print(blog_title.text)\n",
    "\n",
    "article_author = driver.find_element_by_xpath('//*[@id=\"content\"]/article/div[1]/div[1]/div[3]/span[1]/span[1]/a/span')\n",
    "print(article_author.text)\n",
    "\n",
    "element = WebDriverWait(driver, 100).until(\n",
    "        EC.presence_of_element_located((By.CLASS_NAME, \"c-comments__list\"))\n",
    "    )\n",
    "\n",
    "#Find number of comments\n",
    "\n",
    "n_comments = driver.find_element_by_xpath('//*[@id=\"comments\"]/div[1]/span/span')\n",
    "n_comments = int(n_comments.text)\n"
   ]
  },
  {
   "cell_type": "code",
   "execution_count": 34,
   "metadata": {},
   "outputs": [],
   "source": [
    "#Second Loop through all comments, taking title, content, and meta data (recs, author, etc)\n",
    "\n",
    "from selenium.common.exceptions import NoSuchElementException\n",
    "\n",
    "comments_df = pd.DataFrame()\n",
    "\n",
    "for i in range(1,n_comments+1):\n",
    "    \n",
    "    xpath = '//*[@id=\"comments\"]/div[2]/div['+str(i)+']'\n",
    "     \n",
    "    comment_title = driver.find_element_by_xpath(xpath + '/div[1]')\n",
    "    comment_body = driver.find_element_by_xpath(xpath + '/div[2]')\n",
    "    \n",
    "    \n",
    "    if driver.find_elements_by_xpath(xpath + '/div[4]'):\n",
    "        comment_meta = driver.find_element_by_xpath(xpath + '/div[4]')\n",
    "    else:\n",
    "        comment_meta = driver.find_element_by_xpath(xpath + '/div[3]')\n",
    "\n",
    "    comment = pd.DataFrame([comment_title.text,comment_body.text,comment_meta.text])\n",
    "    comments_df = pd.concat([comments_df,comment.T])\n",
    "    \n",
    "    ;\n",
    "   "
   ]
  },
  {
   "cell_type": "code",
   "execution_count": 35,
   "metadata": {},
   "outputs": [
    {
     "data": {
      "text/html": [
       "<div>\n",
       "<style scoped>\n",
       "    .dataframe tbody tr th:only-of-type {\n",
       "        vertical-align: middle;\n",
       "    }\n",
       "\n",
       "    .dataframe tbody tr th {\n",
       "        vertical-align: top;\n",
       "    }\n",
       "\n",
       "    .dataframe thead th {\n",
       "        text-align: right;\n",
       "    }\n",
       "</style>\n",
       "<table border=\"1\" class=\"dataframe\">\n",
       "  <thead>\n",
       "    <tr style=\"text-align: right;\">\n",
       "      <th></th>\n",
       "      <th>Article</th>\n",
       "      <th>Author</th>\n",
       "      <th>Comment Title</th>\n",
       "      <th>Comment Body</th>\n",
       "      <th>Comment Meta</th>\n",
       "    </tr>\n",
       "  </thead>\n",
       "  <tbody>\n",
       "    <tr>\n",
       "      <th>0</th>\n",
       "      <td>Report: PSG turns down Miralem Pjanic-Marco Ve...</td>\n",
       "      <td>Danny Penza</td>\n",
       "      <td></td>\n",
       "      <td>interesting video about how some stats should/...</td>\n",
       "      <td>Posted  by resko  on Apr 3, 2020 | 6:37 AM rep...</td>\n",
       "    </tr>\n",
       "    <tr>\n",
       "      <th>0</th>\n",
       "      <td>Report: PSG turns down Miralem Pjanic-Marco Ve...</td>\n",
       "      <td>Danny Penza</td>\n",
       "      <td></td>\n",
       "      <td>Well that was a tough decision for PSG!</td>\n",
       "      <td>Posted  by Paolo C  on Apr 3, 2020 | 6:42 AM r...</td>\n",
       "    </tr>\n",
       "    <tr>\n",
       "      <th>0</th>\n",
       "      <td>Report: PSG turns down Miralem Pjanic-Marco Ve...</td>\n",
       "      <td>Danny Penza</td>\n",
       "      <td></td>\n",
       "      <td>hmmm…………maybe if we added Khedira……….or Bernar...</td>\n",
       "      <td>Posted  by Ricardo 1  on Apr 3, 2020 | 10:44 A...</td>\n",
       "    </tr>\n",
       "    <tr>\n",
       "      <th>0</th>\n",
       "      <td>Report: PSG turns down Miralem Pjanic-Marco Ve...</td>\n",
       "      <td>Danny Penza</td>\n",
       "      <td></td>\n",
       "      <td>Interest chart here. Various strikers over/und...</td>\n",
       "      <td>Posted  by Paolo C  on Apr 3, 2020 | 9:59 AM r...</td>\n",
       "    </tr>\n",
       "    <tr>\n",
       "      <th>0</th>\n",
       "      <td>Report: PSG turns down Miralem Pjanic-Marco Ve...</td>\n",
       "      <td>Danny Penza</td>\n",
       "      <td></td>\n",
       "      <td>Dybala is an amazing finisher\\nso much this</td>\n",
       "      <td>Posted  by #finoallafine  on Apr 5, 2020 | 11:...</td>\n",
       "    </tr>\n",
       "  </tbody>\n",
       "</table>\n",
       "</div>"
      ],
      "text/plain": [
       "                                             Article       Author  \\\n",
       "0  Report: PSG turns down Miralem Pjanic-Marco Ve...  Danny Penza   \n",
       "0  Report: PSG turns down Miralem Pjanic-Marco Ve...  Danny Penza   \n",
       "0  Report: PSG turns down Miralem Pjanic-Marco Ve...  Danny Penza   \n",
       "0  Report: PSG turns down Miralem Pjanic-Marco Ve...  Danny Penza   \n",
       "0  Report: PSG turns down Miralem Pjanic-Marco Ve...  Danny Penza   \n",
       "\n",
       "  Comment Title                                       Comment Body  \\\n",
       "0                interesting video about how some stats should/...   \n",
       "0                          Well that was a tough decision for PSG!   \n",
       "0                hmmm…………maybe if we added Khedira……….or Bernar...   \n",
       "0                Interest chart here. Various strikers over/und...   \n",
       "0                      Dybala is an amazing finisher\\nso much this   \n",
       "\n",
       "                                        Comment Meta  \n",
       "0  Posted  by resko  on Apr 3, 2020 | 6:37 AM rep...  \n",
       "0  Posted  by Paolo C  on Apr 3, 2020 | 6:42 AM r...  \n",
       "0  Posted  by Ricardo 1  on Apr 3, 2020 | 10:44 A...  \n",
       "0  Posted  by Paolo C  on Apr 3, 2020 | 9:59 AM r...  \n",
       "0  Posted  by #finoallafine  on Apr 5, 2020 | 11:...  "
      ]
     },
     "execution_count": 35,
     "metadata": {},
     "output_type": "execute_result"
    }
   ],
   "source": [
    "comments_df.columns = ['Comment Title','Comment Body','Comment Meta']\n",
    "\n",
    "# Adding article title and author to comments df\n",
    "comments_df.insert(0, 'Article', blog_title.text)\n",
    "comments_df.insert(1, 'Author', article_author.text)\n",
    "\n",
    "comments_df.head()\n",
    "\n"
   ]
  },
  {
   "cell_type": "code",
   "execution_count": null,
   "metadata": {},
   "outputs": [],
   "source": [
    "# Add columns for Author\n",
    "\n",
    "\n",
    "# Add columns for # of recommendations"
   ]
  },
  {
   "cell_type": "code",
   "execution_count": 36,
   "metadata": {},
   "outputs": [],
   "source": [
    "comments_df.to_csv('comments.csv', index=False)\n"
   ]
  },
  {
   "cell_type": "code",
   "execution_count": 40,
   "metadata": {},
   "outputs": [],
   "source": [
    "driver.quit()"
   ]
  },
  {
   "cell_type": "code",
   "execution_count": 60,
   "metadata": {},
   "outputs": [
    {
     "name": "stdout",
     "output_type": "stream",
     "text": [
      "8\n",
      "11\n",
      "Paolo C  on Apr 3, 2020 | 6:42 AM reply rec (8) flag\n",
      "19\n",
      "18\n",
      "Paolo C\n",
      "51\n",
      "8)\n",
      "8\n"
     ]
    }
   ],
   "source": [
    "# Getting Author\n",
    "\n",
    "ts = 'Posted  by Paolo C  on Apr 3, 2020 | 6:42 AM reply rec (8) flag'\n",
    "\n",
    "start = ts.find('by ')\n",
    "print(start)\n",
    "start2 = start+3\n",
    "print(start2)\n",
    "\n",
    "print(ts[start2:])\n",
    "\n",
    "end = ts.find(' on')\n",
    "print(end)\n",
    "end2 = end-1\n",
    "print(end2)\n",
    "\n",
    "print(ts[start2:end2])\n",
    "\n",
    "\n",
    "# Getting recommendations\n",
    "\n",
    "recs = ts.find('rec (')\n",
    "print(recs)\n",
    "\n",
    "rec_start = recs+5\n",
    "rec_end = recs+7\n",
    "recN = ts[rec_start:rec_end]\n",
    "print(recN)\n",
    "\n",
    "\n",
    "def only_numerics(seq):\n",
    "    seq_type= type(seq)\n",
    "    return seq_type().join(filter(seq_type.isdigit, seq))\n",
    "\n",
    "print(only_numerics(recN))\n"
   ]
  },
  {
   "cell_type": "code",
   "execution_count": null,
   "metadata": {},
   "outputs": [],
   "source": []
  },
  {
   "cell_type": "code",
   "execution_count": 12,
   "metadata": {},
   "outputs": [
    {
     "name": "stdout",
     "output_type": "stream",
     "text": [
      "...\n",
      "(8)\n",
      "...\n",
      "(4)\n",
      "...\n",
      "...\n",
      "...\n",
      "...\n",
      "...\n",
      "...\n",
      "...\n",
      "...\n",
      "...\n",
      "...\n",
      "...\n",
      "...\n",
      "...\n",
      "...\n",
      "...\n",
      "...\n",
      "...\n",
      "...\n",
      "...\n",
      "...\n",
      "...\n",
      "...\n",
      "...\n",
      "...\n",
      "...\n",
      "...\n",
      "...\n",
      "...\n",
      "...\n",
      "...\n",
      "...\n",
      "(1)\n",
      "...\n",
      "...\n",
      "...\n",
      "...\n",
      "...\n",
      "...\n"
     ]
    }
   ],
   "source": [
    "## The loop below works for handling NAs, but it's returning recs from only the first level of comments\n",
    "\n",
    "from selenium.common.exceptions import NoSuchElementException\n",
    "\n",
    "# Searching on recommend element specifically (handing NAs)\n",
    "\n",
    "recs_df = pd.DataFrame()\n",
    "\n",
    "for i in range(1,n_comments+1):\n",
    "    \n",
    "    try:\n",
    "        recs_xpath = '/html/body/div[2]/main/article/div[5]/div[1]/section/div[2]/div['+str(i)+']/div[3]/span[2]/button[2]/span[2]'\n",
    "        recs = driver.find_element_by_xpath(recs_xpath)\n",
    "        if recs.is_displayed():\n",
    "            recN = recs.text\n",
    "            print(recN)\n",
    "    except NoSuchElementException:        \n",
    "        print(\"...\")    \n",
    "\n",
    "    #print(i,recs.text)\n",
    "    ;\n",
    "    \n",
    "    \n",
    "    "
   ]
  },
  {
   "cell_type": "code",
   "execution_count": 32,
   "metadata": {},
   "outputs": [],
   "source": [
    "#Loop through all comments, taking title, content, and meta data (recs, author, etc)\n",
    "\n",
    "comments_df = pd.DataFrame()\n",
    "\n",
    "for i in range(1,n_comments+1):\n",
    "    \n",
    "    xpath = '//*[@id=\"comments\"]/div[2]/div['+str(i)+']'\n",
    "     \n",
    "    comment_title = driver.find_element_by_xpath(xpath + '/div[1]')\n",
    "    comment_body = driver.find_element_by_xpath(xpath + '/div[2]')\n",
    "    comment_meta = driver.find_element_by_xpath(xpath + '/div[3]')\n",
    "    # Grabbing author, comment recommendations\n",
    "    #author_xpath = '/html/body/div[2]/main/article/div[5]/div[1]/section/div[2]/div['+str(i)+']/div[3]/span[1]/a[1]'\n",
    "    #author = driver.find_element_by_xpath(author_xpath)\n",
    "    \n",
    "    # Recommendations number specifically doesn't work when there are none\n",
    "    #recs_xpath = '/html/body/div[2]/main/article/div[5]/div[1]/section/div[2]/div['+str(i)+']/div[3]/span[2]/button[2]/span[2]'\n",
    "        \n",
    "    # Also grabbing the entire comments_action errors out on 10th iteration which has a div[4] instead of div[3]\n",
    "    #recs_xpath = '/html/body/div[2]/main/article/div[5]/div[1]/section/div[2]/div['+str(i)+']/div[3]/span[2]'\n",
    "    #recs = driver.find_element_by_xpath(recs_xpath)\n",
    "\n",
    "    comment = pd.DataFrame([comment_title.text,comment_body.text,comment_meta.text])\n",
    "    comments_df = pd.concat([comments_df,comment.T])\n",
    "    \n",
    "    ;\n",
    "   "
   ]
  },
  {
   "cell_type": "code",
   "execution_count": 13,
   "metadata": {},
   "outputs": [
    {
     "name": "stdout",
     "output_type": "stream",
     "text": [
      "[]\n"
     ]
    }
   ],
   "source": [
    "## Searching for comments by name returns empty lists\n",
    "\n",
    "#recs_list = driver.find_elements_by_name('c-comments__actions')\n",
    "recs_list = driver.find_elements_by_name('icon-rec c-comments__rec-link ') \n",
    "#recs_list = driver.find_elements_by_name('c-comments__post-actions u-clearfix')\n",
    "\n",
    "type(recs_list)\n",
    "print(recs_list)\n",
    "\n",
    "\n"
   ]
  }
 ],
 "metadata": {
  "kernelspec": {
   "display_name": "Python 3",
   "language": "python",
   "name": "python3"
  },
  "language_info": {
   "codemirror_mode": {
    "name": "ipython",
    "version": 3
   },
   "file_extension": ".py",
   "mimetype": "text/x-python",
   "name": "python",
   "nbconvert_exporter": "python",
   "pygments_lexer": "ipython3",
   "version": "3.7.6"
  }
 },
 "nbformat": 4,
 "nbformat_minor": 2
}
