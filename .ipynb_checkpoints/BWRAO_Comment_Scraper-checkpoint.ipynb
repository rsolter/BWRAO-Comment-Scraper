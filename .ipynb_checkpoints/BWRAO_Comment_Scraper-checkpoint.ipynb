{
 "cells": [
  {
   "cell_type": "markdown",
   "metadata": {},
   "source": [
    "## BWRAO Comment Scraper\n",
    "\n",
    "This script attempts to scrape comment meta data from BWRAO. Data gathered includes:\n",
    "    - Author\n",
    "    - Recommendation count\n",
    "    - Reply count\n",
    "    - Maybe a unique identifier of the comment?\n",
    "    - In reply to?\n",
    "    \n",
    "Gathering this information can help answer questions such as\n",
    "    - How has the site grown over time? Number of articles per month? Unique commenters?\n",
    "    - Who are the most prolific commenters? Most recommended commenter?\n",
    "    - What affect did signing CR7 have on traffic?\n",
    "    \n",
    "    \n",
    " Resources :\n",
    " - https://www.dataquest.io/blog/web-scraping-tutorial-python/\n",
    " - https://www.reddit.com/r/Crostini/comments/a9r3ga/selenium/\n",
    " - https://www.reddit.com/r/Crostini/comments/brgw0z/using_seleniumchrome_in_debian_stretch_pixelbook/\n",
    " \n",
    "    "
   ]
  },
  {
   "cell_type": "code",
   "execution_count": 70,
   "metadata": {},
   "outputs": [
    {
     "name": "stderr",
     "output_type": "stream",
     "text": [
      "/home/ravisolter/anaconda3/lib/python3.7/site-packages/ipykernel_launcher.py:8: DeprecationWarning: use options instead of chrome_options\n",
      "  \n"
     ]
    }
   ],
   "source": [
    "from selenium import webdriver\n",
    "\n",
    "options = webdriver.ChromeOptions()\n",
    "#options.add_argument('--headless')\n",
    "\n",
    "options.binary_location = \"/usr/bin/google-chrome\"\n",
    "chrome_driver_binary = \"/usr/local/bin/chromedriver\"\n",
    "driver = webdriver.Chrome(chrome_driver_binary, chrome_options=options)\n"
   ]
  },
  {
   "cell_type": "markdown",
   "metadata": {},
   "source": [
    "Need to use [explicit waits](https://selenium-python.readthedocs.io/waits.html)"
   ]
  },
  {
   "cell_type": "code",
   "execution_count": 71,
   "metadata": {},
   "outputs": [],
   "source": [
    "\n",
    "#driver.get(\"https://auth.voxmedia.com/login?return_to=https://www.blackwhitereadallover.com/\")\n"
   ]
  },
  {
   "cell_type": "code",
   "execution_count": 73,
   "metadata": {
    "scrolled": true
   },
   "outputs": [],
   "source": [
    "# Logging in\n",
    "\n",
    "driver.get(\"https://auth.voxmedia.com/login?return_to=https://www.blackwhitereadallover.com/\")\n",
    "\n",
    "username = driver.find_element_by_xpath('/html/body/div[1]/section/div/form/fieldset[1]/input[1]')\n",
    "username.clear()\n",
    "username.send_keys(\"USERNAME\")\n",
    "\n",
    "password = driver.find_element_by_xpath('/html/body/div[1]/section/div/form/fieldset[1]/input[2]')\n",
    "password.clear()\n",
    "password.send_keys(\"PASS\")\n",
    "\n",
    "\n",
    "# clicking a button\n",
    "\n",
    "button = driver.find_element_by_xpath('//*[@id=\"auth\"]/div/form/fieldset[3]/input')\n",
    "button.click()\n",
    "\n",
    "\n",
    "\n"
   ]
  },
  {
   "cell_type": "code",
   "execution_count": null,
   "metadata": {},
   "outputs": [],
   "source": [
    "\n",
    "\n",
    "#driver.get(\"https://www.blackwhitereadallover.com/2020/3/30/21200309/cies-report-2020-summer-transfer-window-player-value-paul-pogba-juventus#comments\")\n",
    "\n",
    "#element = WebDriverWait(driver, 100).until(\n",
    "#        EC.presence_of_element_located((By.CLASS_NAME, \"c-comments__list\"))\n",
    "#    )\n",
    "    \n",
    "#comments = driver.find_element_by_xpath('//*[@id=\"comments\"]')\n",
    "#comments = driver.find_element_by_class_name('c-comments__cbody')\n",
    "#title = driver.find_element_by_class_name('c-comments__header-subject')"
   ]
  },
  {
   "cell_type": "code",
   "execution_count": 14,
   "metadata": {},
   "outputs": [
    {
     "data": {
      "text/plain": [
       "'I’d only take Pogba if the price is right, otherwise it’s pointless trying to sign a broken player who will be on a huge salary. I mean, seriously. Man Utd signed a world top 3 from us back then for 90m Euros, and that player has wasted 5 years of his career doing some 15m / season worth of ‘vacation’ there. Who the hell wants to pay 65m or more for that guy?\\nMaybe Real Madrid, but I don’t think they’re that desperate wrt their midfield that they will splash the cash to sign Pogba. They have Federico Valverde whom is growing up to be an amazing player for them, and they still have Kroos, Modric (old, I know), Isco, and James. If they’re signing a midfielder, that player would most probably be SMS, or even De Bruyne.\\nAt this rate, I much prefer we sign Tonali, or SMS if we indeed want to sign a well established world class Mezzala. Pogba is too much of a risk for 65m Euros.'"
      ]
     },
     "execution_count": 14,
     "metadata": {},
     "output_type": "execute_result"
    }
   ],
   "source": [
    "comments.text"
   ]
  },
  {
   "cell_type": "code",
   "execution_count": 15,
   "metadata": {},
   "outputs": [
    {
     "data": {
      "text/plain": [
       "\"I don't think any club would give us any discount.\""
      ]
     },
     "execution_count": 15,
     "metadata": {},
     "output_type": "execute_result"
    }
   ],
   "source": [
    "title.text"
   ]
  },
  {
   "cell_type": "code",
   "execution_count": 36,
   "metadata": {},
   "outputs": [],
   "source": [
    "driver.quit()"
   ]
  },
  {
   "cell_type": "code",
   "execution_count": null,
   "metadata": {},
   "outputs": [],
   "source": []
  }
 ],
 "metadata": {
  "kernelspec": {
   "display_name": "Python 3",
   "language": "python",
   "name": "python3"
  },
  "language_info": {
   "codemirror_mode": {
    "name": "ipython",
    "version": 3
   },
   "file_extension": ".py",
   "mimetype": "text/x-python",
   "name": "python",
   "nbconvert_exporter": "python",
   "pygments_lexer": "ipython3",
   "version": "3.7.6"
  }
 },
 "nbformat": 4,
 "nbformat_minor": 4
}
