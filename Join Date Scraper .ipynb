{
 "cells": [
  {
   "cell_type": "code",
   "execution_count": 25,
   "metadata": {},
   "outputs": [],
   "source": [
    "# Libraries\n",
    "\n",
    "import pandas as pd\n",
    "from selenium import webdriver\n",
    "from selenium.webdriver.common.by import By\n",
    "from selenium.webdriver.support.ui import WebDriverWait\n",
    "from selenium.webdriver.support import expected_conditions as EC\n",
    "from selenium.common.exceptions import NoSuchElementException\n",
    "from random import randint\n",
    "from time import sleep \n"
   ]
  },
  {
   "cell_type": "code",
   "execution_count": 26,
   "metadata": {},
   "outputs": [],
   "source": [
    "users = pd.read_fwf('test_users.txt')\n",
    "users = users.iloc[:, 0]"
   ]
  },
  {
   "cell_type": "code",
   "execution_count": 27,
   "metadata": {},
   "outputs": [
    {
     "data": {
      "text/plain": [
       "0                  \"Marcello\"\n",
       "1                       \"Bob\"\n",
       "2            \"Giorgia Palmas\"\n",
       "3                     \"tempo\"\n",
       "4                    \"italia\"\n",
       "                ...          \n",
       "3784     \"jamaican juventino\"\n",
       "3785    \"snape's greasy hair\"\n",
       "3786                  \"DanyC\"\n",
       "3787               \"maxnucci\"\n",
       "3788            \"Thiago6Time\"\n",
       "Name: \"x\", Length: 3789, dtype: object"
      ]
     },
     "execution_count": 27,
     "metadata": {},
     "output_type": "execute_result"
    }
   ],
   "source": [
    "users"
   ]
  },
  {
   "cell_type": "code",
   "execution_count": 28,
   "metadata": {},
   "outputs": [],
   "source": [
    "#type(users)"
   ]
  },
  {
   "cell_type": "code",
   "execution_count": 29,
   "metadata": {},
   "outputs": [
    {
     "ename": "SyntaxError",
     "evalue": "invalid syntax (<ipython-input-29-07a9cda6d2e7>, line 1)",
     "output_type": "error",
     "traceback": [
      "\u001b[0;36m  File \u001b[0;32m\"<ipython-input-29-07a9cda6d2e7>\"\u001b[0;36m, line \u001b[0;32m1\u001b[0m\n\u001b[0;31m    print users.replace(\" \",\"%2520\")\u001b[0m\n\u001b[0m              ^\u001b[0m\n\u001b[0;31mSyntaxError\u001b[0m\u001b[0;31m:\u001b[0m invalid syntax\n"
     ]
    }
   ],
   "source": [
    "print users.replace(\" \",\"%2520\")"
   ]
  },
  {
   "cell_type": "code",
   "execution_count": null,
   "metadata": {},
   "outputs": [],
   "source": [
    "# Test profiles\n",
    "\n",
    "# https://www.sbnation.com/users/Fefu\n",
    "# https://www.sbnation.com/users/Nathan%2520RB\n",
    "# https://www.sbnation.com/users/Ahmed%2520Al%2520Ibrahim\n",
    "# https://www.sbnation.com/users/incredible%252520holc"
   ]
  },
  {
   "cell_type": "code",
   "execution_count": null,
   "metadata": {},
   "outputs": [],
   "source": [
    "driver.get(\"https://www.sbnation.com/users/Fefu\")\n",
    "\n",
    "# 'ul class ='c-user-card__info''\n",
    "# /html/body/div[1]/div[2]/div/div/section/div[2]/ul\n",
    "# Joined date\n",
    "# /html/body/div[1]/div[2]/div/div/section/div[2]/ul/li[1]/span"
   ]
  }
 ],
 "metadata": {
  "kernelspec": {
   "display_name": "Python 3",
   "language": "python",
   "name": "python3"
  },
  "language_info": {
   "codemirror_mode": {
    "name": "ipython",
    "version": 3
   },
   "file_extension": ".py",
   "mimetype": "text/x-python",
   "name": "python",
   "nbconvert_exporter": "python",
   "pygments_lexer": "ipython3",
   "version": "3.7.6"
  }
 },
 "nbformat": 4,
 "nbformat_minor": 4
}
