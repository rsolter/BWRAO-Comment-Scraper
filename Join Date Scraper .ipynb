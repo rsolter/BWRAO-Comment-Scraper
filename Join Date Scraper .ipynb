{
 "cells": [
  {
   "cell_type": "code",
   "execution_count": 102,
   "metadata": {},
   "outputs": [],
   "source": [
    "# Libraries\n",
    "\n",
    "import pandas as pd\n",
    "from selenium import webdriver\n",
    "from selenium.webdriver.common.by import By\n",
    "from selenium.webdriver.support.ui import WebDriverWait\n",
    "from selenium.webdriver.support import expected_conditions as EC\n",
    "from selenium.common.exceptions import NoSuchElementException\n",
    "from random import randint\n",
    "from time import sleep \n",
    "\n",
    "\n",
    "def check_exists_by_xpath(xpath):\n",
    "    try:\n",
    "        driver.find_element_by_xpath(xpath)\n",
    "    except NoSuchElementException:\n",
    "        return False\n",
    "    return True"
   ]
  },
  {
   "cell_type": "code",
   "execution_count": 103,
   "metadata": {},
   "outputs": [
    {
     "name": "stderr",
     "output_type": "stream",
     "text": [
      "/home/ravisolter/anaconda3/lib/python3.7/site-packages/ipykernel_launcher.py:10: DeprecationWarning: use options instead of chrome_options\n",
      "  # Remove the CWD from sys.path while we load stuff.\n"
     ]
    }
   ],
   "source": [
    "# Setting up the Chrome webdriver\n",
    "\n",
    "options = webdriver.ChromeOptions()\n",
    "#options.add_argument('--headless') #uncomment to not render driven browser during scrapping\n",
    "\n",
    "options.binary_location = \"/usr/bin/google-chrome\"\n",
    "chrome_driver_binary = \"/usr/local/bin/chromedriver\"\n",
    "#options.binary_location = \"C:/Program Files (x86)/Google/Chrome/Application/chrome.exe\"\n",
    "#chrome_driver_binary = \"C:/Users/Alek/chromedriver\"\n",
    "driver = webdriver.Chrome(chrome_driver_binary, chrome_options=options)\n"
   ]
  },
  {
   "cell_type": "markdown",
   "metadata": {},
   "source": [
    "### Reading in Users' names"
   ]
  },
  {
   "cell_type": "code",
   "execution_count": 108,
   "metadata": {
    "collapsed": true
   },
   "outputs": [
    {
     "data": {
      "text/plain": [
       "0                  Marcello\n",
       "1                       Bob\n",
       "2            Giorgia Palmas\n",
       "3                     tempo\n",
       "4                    italia\n",
       "               ...         \n",
       "3784     jamaican juventino\n",
       "3785    snape's greasy hair\n",
       "3786                  DanyC\n",
       "3787               maxnucci\n",
       "3788            Thiago6Time\n",
       "Name: \"x\", Length: 3789, dtype: object"
      ]
     },
     "execution_count": 108,
     "metadata": {},
     "output_type": "execute_result"
    }
   ],
   "source": [
    "users = pd.read_fwf('test_users.txt')\n",
    "users = users.iloc[:, 0]\n",
    "\n",
    "def url_blank_fix(string):\n",
    "    return string.replace(' ','%2520')\n",
    "\n",
    "def remove_quotes(string): \n",
    "    return string[1:(len(string)-1)]\n",
    "\n",
    "users = users.apply(remove_quotes)\n",
    "\n",
    "users"
   ]
  },
  {
   "cell_type": "code",
   "execution_count": 117,
   "metadata": {
    "collapsed": true
   },
   "outputs": [
    {
     "name": "stdout",
     "output_type": "stream",
     "text": [
      "1 of 3789\n",
      "2 of 3789\n",
      "3 of 3789\n",
      "4 of 3789\n"
     ]
    }
   ],
   "source": [
    "\n",
    "user_join_dates = pd.DataFrame()\n",
    "\n",
    "\n",
    "for i in range(0,len(users)):\n",
    "        \n",
    "    print(str(i)+' of '+str(len(users)))\n",
    "\n",
    "    \n",
    "    # Replacing any blanks with '%2520' for URL\n",
    "    users[i] = url_blank_fix(users[i])\n",
    "\n",
    "    # Go to user profile\n",
    "    driver.get('https://www.sbnation.com/users/'+users[i])\n",
    "    \n",
    "    sleep(2)\n",
    "\n",
    "    if check_exists_by_xpath('/html/body/div[2]/div[3]/div/div/section/div[2]/ul'):\n",
    "        join_date = driver.find_element_by_xpath('/html/body/div[2]/div[3]/div/div/section/div[2]/ul')\n",
    "        \n",
    "        # Export text\n",
    "        join_date = join_date.text\n",
    "\n",
    "        # Sub_String\n",
    "        join_date_start = 8\n",
    "        join_date_end = join_date.find('Last')-1\n",
    "\n",
    "        join_date_out = join_date[join_date_start:join_date_end]\n",
    "        \n",
    "        user_data = pd.DataFrame([users[i],join_date_out])\n",
    "        \n",
    "    else:\n",
    "        user_data = pd.DataFrame([users[i],None])\n",
    "        \n",
    "        \n",
    "        \n",
    "    user_join_dates = pd.concat([user_join_dates,user_data.T])\n",
    "        \n",
    "    ;\n",
    "    \n",
    "        \n",
    "user_join_dates.columns = ['User','Join Date']\n",
    "\n",
    "\n"
   ]
  },
  {
   "cell_type": "code",
   "execution_count": 113,
   "metadata": {},
   "outputs": [
    {
     "data": {
      "text/html": [
       "<div>\n",
       "<style scoped>\n",
       "    .dataframe tbody tr th:only-of-type {\n",
       "        vertical-align: middle;\n",
       "    }\n",
       "\n",
       "    .dataframe tbody tr th {\n",
       "        vertical-align: top;\n",
       "    }\n",
       "\n",
       "    .dataframe thead th {\n",
       "        text-align: right;\n",
       "    }\n",
       "</style>\n",
       "<table border=\"1\" class=\"dataframe\">\n",
       "  <thead>\n",
       "    <tr style=\"text-align: right;\">\n",
       "      <th></th>\n",
       "      <th>User</th>\n",
       "      <th>Join Date</th>\n",
       "    </tr>\n",
       "  </thead>\n",
       "  <tbody>\n",
       "    <tr>\n",
       "      <th>0</th>\n",
       "      <td>Bob</td>\n",
       "      <td>Feb 24, 2008</td>\n",
       "    </tr>\n",
       "    <tr>\n",
       "      <th>0</th>\n",
       "      <td>Giorgia%2520Palmas</td>\n",
       "      <td>None</td>\n",
       "    </tr>\n",
       "    <tr>\n",
       "      <th>0</th>\n",
       "      <td>tempo</td>\n",
       "      <td>Sep 23, 2010</td>\n",
       "    </tr>\n",
       "    <tr>\n",
       "      <th>0</th>\n",
       "      <td>italia</td>\n",
       "      <td>May 11, 2009</td>\n",
       "    </tr>\n",
       "  </tbody>\n",
       "</table>\n",
       "</div>"
      ],
      "text/plain": [
       "                 User     Join Date\n",
       "0                 Bob  Feb 24, 2008\n",
       "0  Giorgia%2520Palmas          None\n",
       "0               tempo  Sep 23, 2010\n",
       "0              italia  May 11, 2009"
      ]
     },
     "execution_count": 113,
     "metadata": {},
     "output_type": "execute_result"
    }
   ],
   "source": [
    "user_join_dates.head()"
   ]
  },
  {
   "cell_type": "code",
   "execution_count": null,
   "metadata": {},
   "outputs": [],
   "source": []
  }
 ],
 "metadata": {
  "kernelspec": {
   "display_name": "Python 3",
   "language": "python",
   "name": "python3"
  },
  "language_info": {
   "codemirror_mode": {
    "name": "ipython",
    "version": 3
   },
   "file_extension": ".py",
   "mimetype": "text/x-python",
   "name": "python",
   "nbconvert_exporter": "python",
   "pygments_lexer": "ipython3",
   "version": "3.7.6"
  }
 },
 "nbformat": 4,
 "nbformat_minor": 4
}
