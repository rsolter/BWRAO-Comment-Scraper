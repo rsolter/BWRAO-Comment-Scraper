{
 "cells": [
  {
   "cell_type": "code",
   "execution_count": null,
   "metadata": {},
   "outputs": [],
   "source": [
    "import time\n",
    "import pandas as pd\n",
    "from selenium import webdriver\n",
    "from selenium.webdriver.common.by import By\n",
    "from selenium.webdriver.support.ui import WebDriverWait\n",
    "from selenium.webdriver.support import expected_conditions as EC"
   ]
  },
  {
   "cell_type": "code",
   "execution_count": null,
   "metadata": {},
   "outputs": [],
   "source": [
    "#Find number of months with articles\n",
    "\n",
    "#making sure relevant shit loads\n",
    "element = WebDriverWait(driver, 100).until(\n",
    "        EC.presence_of_element_located((By.XPATH, '//div[@class=\"l-col__sidebar\"]'))\n",
    "    )\n",
    "\n",
    "#finding number of months\n",
    "months = driver.find_elements_by_xpath('//div[@class=\"l-col__sidebar\"]/div[2]/ul')\n",
    "months = round(len(months[0].text.split('\\n'))/2)"
   ]
  },
  {
   "cell_type": "code",
   "execution_count": null,
   "metadata": {},
   "outputs": [],
   "source": [
    "#Loop to click on load articles untill everything there\n",
    "#be sure to import 'time'\n",
    "\n",
    "    while driver.find_elements_by_class_name('p-button c-archives-load-more__button'):\n",
    "        button = find_element_by_class_name('p-button c-archives-load-more__button')\n",
    "        button.click()\n",
    "        time.sleep(2);"
   ]
  }
 ],
 "metadata": {
  "kernelspec": {
   "display_name": "Python 3",
   "language": "python",
   "name": "python3"
  },
  "language_info": {
   "codemirror_mode": {
    "name": "ipython",
    "version": 3
   },
   "file_extension": ".py",
   "mimetype": "text/x-python",
   "name": "python",
   "nbconvert_exporter": "python",
   "pygments_lexer": "ipython3",
   "version": "3.6.8"
  }
 },
 "nbformat": 4,
 "nbformat_minor": 2
}
